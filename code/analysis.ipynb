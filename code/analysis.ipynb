{
 "cells": [
  {
   "cell_type": "markdown",
   "metadata": {},
   "source": [
    "<h1>AD/PD project<span class=\"tocSkip\"></span></h1>\n",
    "\n",
    "<h3>Rui Benfeitas, Scilifelab, NBIS National Bioinformatics Infrastructure Sweden   </h3>\n",
    "rui.benfeitas@scilifelab.se"
   ]
  },
  {
   "cell_type": "code",
   "execution_count": 1,
   "metadata": {},
   "outputs": [],
   "source": [
    "## Preamble\n",
    "import sklearn, leidenalg, itertools, random, re\n",
    "import pandas as pd\n",
    "import numpy as np\n",
    "import igraph as ig\n",
    "import sklearn.neighbors\n",
    "import scipy as sp\n",
    "from statsmodels.stats.multitest import multipletests\n",
    "import gseapy as gp\n",
    "import seaborn as sb\n",
    "import pickle as pkl\n",
    "\n",
    "\n",
    "# Plotting\n",
    "import matplotlib.pyplot as plt\n",
    "import seaborn as sns\n",
    "%matplotlib inline\n",
    "\n",
    "# Pickling\n",
    "def pkl_save(filename, object_in):\n",
    "    with open(filename, 'wb') as handle:\n",
    "        pkl.dump(object_in, handle, protocol=pkl.HIGHEST_PROTOCOL)\n",
    "        print('Saved file '+filename)\n",
    "def pkl_load(filename):\n",
    "    with open(filename, 'rb') as handle:\n",
    "        out = pkl.load(handle)\n",
    "    return(out)"
   ]
  },
  {
   "cell_type": "markdown",
   "metadata": {},
   "source": [
    "# Data preprocessing"
   ]
  },
  {
   "cell_type": "code",
   "execution_count": 226,
   "metadata": {},
   "outputs": [
    {
     "data": {
      "text/html": [
       "<div>\n",
       "<style scoped>\n",
       "    .dataframe tbody tr th:only-of-type {\n",
       "        vertical-align: middle;\n",
       "    }\n",
       "\n",
       "    .dataframe tbody tr th {\n",
       "        vertical-align: top;\n",
       "    }\n",
       "\n",
       "    .dataframe thead th {\n",
       "        text-align: right;\n",
       "    }\n",
       "</style>\n",
       "<table border=\"1\" class=\"dataframe\">\n",
       "  <thead>\n",
       "    <tr style=\"text-align: right;\">\n",
       "      <th></th>\n",
       "      <th>zhangZheng.GSM506039_expr.tsv</th>\n",
       "      <th>zhangZheng.GSM506040_expr.tsv</th>\n",
       "      <th>zhangZheng.GSM506041_expr.tsv</th>\n",
       "      <th>zhangZheng.GSM506042_expr.tsv</th>\n",
       "      <th>zhangZheng.GSM506043_expr.tsv</th>\n",
       "      <th>zhangZheng.GSM506044_expr.tsv</th>\n",
       "      <th>zhangZheng.GSM506045_expr.tsv</th>\n",
       "      <th>zhangZheng.GSM506046_expr.tsv</th>\n",
       "      <th>zhangZheng.GSM506048_expr.tsv</th>\n",
       "      <th>zhangZheng.GSM506059_expr.tsv</th>\n",
       "      <th>...</th>\n",
       "      <th>ROSMAP_blood_RNAseq.Sample_578.tsv</th>\n",
       "      <th>ROSMAP_blood_RNAseq.Sample_579.tsv</th>\n",
       "      <th>ROSMAP_blood_RNAseq.Sample_588.tsv</th>\n",
       "      <th>ROSMAP_blood_RNAseq.Sample_589.tsv</th>\n",
       "      <th>ROSMAP_blood_RNAseq.Sample_591.tsv</th>\n",
       "      <th>ROSMAP_blood_RNAseq.Sample_595.tsv</th>\n",
       "      <th>ROSMAP_blood_RNAseq.Sample_599.tsv</th>\n",
       "      <th>ROSMAP_blood_RNAseq.Sample_600.tsv</th>\n",
       "      <th>ROSMAP_blood_RNAseq.Sample_602.tsv</th>\n",
       "      <th>ROSMAP_blood_RNAseq.Sample_610.tsv</th>\n",
       "    </tr>\n",
       "    <tr>\n",
       "      <th>V1</th>\n",
       "      <th></th>\n",
       "      <th></th>\n",
       "      <th></th>\n",
       "      <th></th>\n",
       "      <th></th>\n",
       "      <th></th>\n",
       "      <th></th>\n",
       "      <th></th>\n",
       "      <th></th>\n",
       "      <th></th>\n",
       "      <th></th>\n",
       "      <th></th>\n",
       "      <th></th>\n",
       "      <th></th>\n",
       "      <th></th>\n",
       "      <th></th>\n",
       "      <th></th>\n",
       "      <th></th>\n",
       "      <th></th>\n",
       "      <th></th>\n",
       "      <th></th>\n",
       "    </tr>\n",
       "  </thead>\n",
       "  <tbody>\n",
       "    <tr>\n",
       "      <th>ENSG00000002919</th>\n",
       "      <td>0.659151</td>\n",
       "      <td>0.375551</td>\n",
       "      <td>1.161161</td>\n",
       "      <td>12.610911</td>\n",
       "      <td>-4.574936</td>\n",
       "      <td>11.627628</td>\n",
       "      <td>-0.711342</td>\n",
       "      <td>-2.253656</td>\n",
       "      <td>1.326751</td>\n",
       "      <td>1.781420</td>\n",
       "      <td>...</td>\n",
       "      <td>2.709384</td>\n",
       "      <td>2.709384</td>\n",
       "      <td>2.709384</td>\n",
       "      <td>2.709384</td>\n",
       "      <td>2.709384</td>\n",
       "      <td>2.709384</td>\n",
       "      <td>2.709384</td>\n",
       "      <td>2.716117</td>\n",
       "      <td>2.709384</td>\n",
       "      <td>2.709384</td>\n",
       "    </tr>\n",
       "    <tr>\n",
       "      <th>ENSG00000007255</th>\n",
       "      <td>3.508398</td>\n",
       "      <td>3.194679</td>\n",
       "      <td>3.690117</td>\n",
       "      <td>13.451161</td>\n",
       "      <td>-1.351820</td>\n",
       "      <td>15.001638</td>\n",
       "      <td>2.678068</td>\n",
       "      <td>0.648126</td>\n",
       "      <td>3.092037</td>\n",
       "      <td>3.688798</td>\n",
       "      <td>...</td>\n",
       "      <td>5.356596</td>\n",
       "      <td>5.558797</td>\n",
       "      <td>5.356596</td>\n",
       "      <td>5.976336</td>\n",
       "      <td>5.356596</td>\n",
       "      <td>6.095421</td>\n",
       "      <td>5.356596</td>\n",
       "      <td>5.356596</td>\n",
       "      <td>5.356596</td>\n",
       "      <td>6.221375</td>\n",
       "    </tr>\n",
       "    <tr>\n",
       "      <th>ENSG00000005486</th>\n",
       "      <td>NaN</td>\n",
       "      <td>NaN</td>\n",
       "      <td>NaN</td>\n",
       "      <td>NaN</td>\n",
       "      <td>NaN</td>\n",
       "      <td>NaN</td>\n",
       "      <td>NaN</td>\n",
       "      <td>NaN</td>\n",
       "      <td>NaN</td>\n",
       "      <td>NaN</td>\n",
       "      <td>...</td>\n",
       "      <td>24.900805</td>\n",
       "      <td>24.543071</td>\n",
       "      <td>24.543071</td>\n",
       "      <td>24.906659</td>\n",
       "      <td>24.543071</td>\n",
       "      <td>24.543071</td>\n",
       "      <td>24.925707</td>\n",
       "      <td>24.607174</td>\n",
       "      <td>24.543071</td>\n",
       "      <td>24.818020</td>\n",
       "    </tr>\n",
       "    <tr>\n",
       "      <th>ENSG00000005238</th>\n",
       "      <td>3.760331</td>\n",
       "      <td>3.036224</td>\n",
       "      <td>3.586251</td>\n",
       "      <td>14.665837</td>\n",
       "      <td>-2.042642</td>\n",
       "      <td>14.521826</td>\n",
       "      <td>3.319345</td>\n",
       "      <td>1.016384</td>\n",
       "      <td>4.787363</td>\n",
       "      <td>4.087742</td>\n",
       "      <td>...</td>\n",
       "      <td>5.172770</td>\n",
       "      <td>5.179937</td>\n",
       "      <td>4.941916</td>\n",
       "      <td>5.775283</td>\n",
       "      <td>4.941916</td>\n",
       "      <td>5.588033</td>\n",
       "      <td>5.042821</td>\n",
       "      <td>5.180983</td>\n",
       "      <td>5.203197</td>\n",
       "      <td>5.364507</td>\n",
       "    </tr>\n",
       "    <tr>\n",
       "      <th>ENSG00000005108</th>\n",
       "      <td>5.075862</td>\n",
       "      <td>6.658226</td>\n",
       "      <td>5.851592</td>\n",
       "      <td>14.149797</td>\n",
       "      <td>1.673632</td>\n",
       "      <td>15.350570</td>\n",
       "      <td>5.627240</td>\n",
       "      <td>5.155429</td>\n",
       "      <td>7.409817</td>\n",
       "      <td>8.651457</td>\n",
       "      <td>...</td>\n",
       "      <td>8.061695</td>\n",
       "      <td>8.061697</td>\n",
       "      <td>8.061695</td>\n",
       "      <td>8.061714</td>\n",
       "      <td>8.061695</td>\n",
       "      <td>8.061695</td>\n",
       "      <td>8.061695</td>\n",
       "      <td>8.061695</td>\n",
       "      <td>8.061695</td>\n",
       "      <td>8.061695</td>\n",
       "    </tr>\n",
       "  </tbody>\n",
       "</table>\n",
       "<p>5 rows × 683 columns</p>\n",
       "</div>"
      ],
      "text/plain": [
       "                 zhangZheng.GSM506039_expr.tsv  zhangZheng.GSM506040_expr.tsv  \\\n",
       "V1                                                                              \n",
       "ENSG00000002919                       0.659151                       0.375551   \n",
       "ENSG00000007255                       3.508398                       3.194679   \n",
       "ENSG00000005486                            NaN                            NaN   \n",
       "ENSG00000005238                       3.760331                       3.036224   \n",
       "ENSG00000005108                       5.075862                       6.658226   \n",
       "\n",
       "                 zhangZheng.GSM506041_expr.tsv  zhangZheng.GSM506042_expr.tsv  \\\n",
       "V1                                                                              \n",
       "ENSG00000002919                       1.161161                      12.610911   \n",
       "ENSG00000007255                       3.690117                      13.451161   \n",
       "ENSG00000005486                            NaN                            NaN   \n",
       "ENSG00000005238                       3.586251                      14.665837   \n",
       "ENSG00000005108                       5.851592                      14.149797   \n",
       "\n",
       "                 zhangZheng.GSM506043_expr.tsv  zhangZheng.GSM506044_expr.tsv  \\\n",
       "V1                                                                              \n",
       "ENSG00000002919                      -4.574936                      11.627628   \n",
       "ENSG00000007255                      -1.351820                      15.001638   \n",
       "ENSG00000005486                            NaN                            NaN   \n",
       "ENSG00000005238                      -2.042642                      14.521826   \n",
       "ENSG00000005108                       1.673632                      15.350570   \n",
       "\n",
       "                 zhangZheng.GSM506045_expr.tsv  zhangZheng.GSM506046_expr.tsv  \\\n",
       "V1                                                                              \n",
       "ENSG00000002919                      -0.711342                      -2.253656   \n",
       "ENSG00000007255                       2.678068                       0.648126   \n",
       "ENSG00000005486                            NaN                            NaN   \n",
       "ENSG00000005238                       3.319345                       1.016384   \n",
       "ENSG00000005108                       5.627240                       5.155429   \n",
       "\n",
       "                 zhangZheng.GSM506048_expr.tsv  zhangZheng.GSM506059_expr.tsv  \\\n",
       "V1                                                                              \n",
       "ENSG00000002919                       1.326751                       1.781420   \n",
       "ENSG00000007255                       3.092037                       3.688798   \n",
       "ENSG00000005486                            NaN                            NaN   \n",
       "ENSG00000005238                       4.787363                       4.087742   \n",
       "ENSG00000005108                       7.409817                       8.651457   \n",
       "\n",
       "                 ...  ROSMAP_blood_RNAseq.Sample_578.tsv  \\\n",
       "V1               ...                                       \n",
       "ENSG00000002919  ...                            2.709384   \n",
       "ENSG00000007255  ...                            5.356596   \n",
       "ENSG00000005486  ...                           24.900805   \n",
       "ENSG00000005238  ...                            5.172770   \n",
       "ENSG00000005108  ...                            8.061695   \n",
       "\n",
       "                 ROSMAP_blood_RNAseq.Sample_579.tsv  \\\n",
       "V1                                                    \n",
       "ENSG00000002919                            2.709384   \n",
       "ENSG00000007255                            5.558797   \n",
       "ENSG00000005486                           24.543071   \n",
       "ENSG00000005238                            5.179937   \n",
       "ENSG00000005108                            8.061697   \n",
       "\n",
       "                 ROSMAP_blood_RNAseq.Sample_588.tsv  \\\n",
       "V1                                                    \n",
       "ENSG00000002919                            2.709384   \n",
       "ENSG00000007255                            5.356596   \n",
       "ENSG00000005486                           24.543071   \n",
       "ENSG00000005238                            4.941916   \n",
       "ENSG00000005108                            8.061695   \n",
       "\n",
       "                 ROSMAP_blood_RNAseq.Sample_589.tsv  \\\n",
       "V1                                                    \n",
       "ENSG00000002919                            2.709384   \n",
       "ENSG00000007255                            5.976336   \n",
       "ENSG00000005486                           24.906659   \n",
       "ENSG00000005238                            5.775283   \n",
       "ENSG00000005108                            8.061714   \n",
       "\n",
       "                 ROSMAP_blood_RNAseq.Sample_591.tsv  \\\n",
       "V1                                                    \n",
       "ENSG00000002919                            2.709384   \n",
       "ENSG00000007255                            5.356596   \n",
       "ENSG00000005486                           24.543071   \n",
       "ENSG00000005238                            4.941916   \n",
       "ENSG00000005108                            8.061695   \n",
       "\n",
       "                 ROSMAP_blood_RNAseq.Sample_595.tsv  \\\n",
       "V1                                                    \n",
       "ENSG00000002919                            2.709384   \n",
       "ENSG00000007255                            6.095421   \n",
       "ENSG00000005486                           24.543071   \n",
       "ENSG00000005238                            5.588033   \n",
       "ENSG00000005108                            8.061695   \n",
       "\n",
       "                 ROSMAP_blood_RNAseq.Sample_599.tsv  \\\n",
       "V1                                                    \n",
       "ENSG00000002919                            2.709384   \n",
       "ENSG00000007255                            5.356596   \n",
       "ENSG00000005486                           24.925707   \n",
       "ENSG00000005238                            5.042821   \n",
       "ENSG00000005108                            8.061695   \n",
       "\n",
       "                 ROSMAP_blood_RNAseq.Sample_600.tsv  \\\n",
       "V1                                                    \n",
       "ENSG00000002919                            2.716117   \n",
       "ENSG00000007255                            5.356596   \n",
       "ENSG00000005486                           24.607174   \n",
       "ENSG00000005238                            5.180983   \n",
       "ENSG00000005108                            8.061695   \n",
       "\n",
       "                 ROSMAP_blood_RNAseq.Sample_602.tsv  \\\n",
       "V1                                                    \n",
       "ENSG00000002919                            2.709384   \n",
       "ENSG00000007255                            5.356596   \n",
       "ENSG00000005486                           24.543071   \n",
       "ENSG00000005238                            5.203197   \n",
       "ENSG00000005108                            8.061695   \n",
       "\n",
       "                 ROSMAP_blood_RNAseq.Sample_610.tsv  \n",
       "V1                                                   \n",
       "ENSG00000002919                            2.709384  \n",
       "ENSG00000007255                            6.221375  \n",
       "ENSG00000005486                           24.818020  \n",
       "ENSG00000005238                            5.364507  \n",
       "ENSG00000005108                            8.061695  \n",
       "\n",
       "[5 rows x 683 columns]"
      ]
     },
     "execution_count": 226,
     "metadata": {},
     "output_type": "execute_result"
    }
   ],
   "source": [
    "hpa=pd.read_csv('../data/hpa.tsv', sep=\"\\t\", index_col=2)[['Gene']]\n",
    "data=pd.read_csv('../data/combinedCounts_ADPD-only.tsv', sep=\"\\t\", index_col=0)\n",
    "data.head()"
   ]
  },
  {
   "cell_type": "code",
   "execution_count": 227,
   "metadata": {},
   "outputs": [],
   "source": [
    "meta=pd.read_csv('../data/metadata.tsv', sep=\"\\t\")\n",
    "pro_meta=meta.copy()\n",
    "pro_meta=pro_meta.loc[pro_meta.Colname.isin(data.columns)]"
   ]
  },
  {
   "cell_type": "code",
   "execution_count": 228,
   "metadata": {},
   "outputs": [
    {
     "data": {
      "text/html": [
       "<div>\n",
       "<style scoped>\n",
       "    .dataframe tbody tr th:only-of-type {\n",
       "        vertical-align: middle;\n",
       "    }\n",
       "\n",
       "    .dataframe tbody tr th {\n",
       "        vertical-align: top;\n",
       "    }\n",
       "\n",
       "    .dataframe thead th {\n",
       "        text-align: right;\n",
       "    }\n",
       "</style>\n",
       "<table border=\"1\" class=\"dataframe\">\n",
       "  <thead>\n",
       "    <tr style=\"text-align: right;\">\n",
       "      <th></th>\n",
       "      <th></th>\n",
       "      <th>Sample</th>\n",
       "      <th>Individual</th>\n",
       "    </tr>\n",
       "    <tr>\n",
       "      <th>Phenotype</th>\n",
       "      <th>Region1</th>\n",
       "      <th></th>\n",
       "      <th></th>\n",
       "    </tr>\n",
       "  </thead>\n",
       "  <tbody>\n",
       "    <tr>\n",
       "      <th rowspan=\"2\" valign=\"top\">Alzheimer's disease</th>\n",
       "      <th>Blood</th>\n",
       "      <td>154</td>\n",
       "      <td>154</td>\n",
       "    </tr>\n",
       "    <tr>\n",
       "      <th>Brain</th>\n",
       "      <td>475</td>\n",
       "      <td>475</td>\n",
       "    </tr>\n",
       "    <tr>\n",
       "      <th>Parkinson's disease</th>\n",
       "      <th>Brain</th>\n",
       "      <td>54</td>\n",
       "      <td>54</td>\n",
       "    </tr>\n",
       "  </tbody>\n",
       "</table>\n",
       "</div>"
      ],
      "text/plain": [
       "                             Sample  Individual\n",
       "Phenotype           Region1                    \n",
       "Alzheimer's disease Blood       154         154\n",
       "                    Brain       475         475\n",
       "Parkinson's disease Brain        54          54"
      ]
     },
     "execution_count": 228,
     "metadata": {},
     "output_type": "execute_result"
    }
   ],
   "source": [
    "pro_meta.groupby(['Phenotype','Region1'])[['Sample','Individual']].agg('count')"
   ]
  },
  {
   "cell_type": "code",
   "execution_count": 229,
   "metadata": {},
   "outputs": [
    {
     "data": {
      "text/html": [
       "<div>\n",
       "<style scoped>\n",
       "    .dataframe tbody tr th:only-of-type {\n",
       "        vertical-align: middle;\n",
       "    }\n",
       "\n",
       "    .dataframe tbody tr th {\n",
       "        vertical-align: top;\n",
       "    }\n",
       "\n",
       "    .dataframe thead th {\n",
       "        text-align: right;\n",
       "    }\n",
       "</style>\n",
       "<table border=\"1\" class=\"dataframe\">\n",
       "  <thead>\n",
       "    <tr style=\"text-align: right;\">\n",
       "      <th></th>\n",
       "      <th></th>\n",
       "      <th></th>\n",
       "      <th>Source</th>\n",
       "      <th>Sample</th>\n",
       "    </tr>\n",
       "    <tr>\n",
       "      <th>Phenotype</th>\n",
       "      <th>Region2</th>\n",
       "      <th>Sex</th>\n",
       "      <th></th>\n",
       "      <th></th>\n",
       "    </tr>\n",
       "  </thead>\n",
       "  <tbody>\n",
       "    <tr>\n",
       "      <th rowspan=\"2\" valign=\"top\">Alzheimer's disease</th>\n",
       "      <th rowspan=\"2\" valign=\"top\">Cerebral cortex</th>\n",
       "      <th>Female</th>\n",
       "      <td>304</td>\n",
       "      <td>304</td>\n",
       "    </tr>\n",
       "    <tr>\n",
       "      <th>Male</th>\n",
       "      <td>171</td>\n",
       "      <td>171</td>\n",
       "    </tr>\n",
       "    <tr>\n",
       "      <th rowspan=\"4\" valign=\"top\">Parkinson's disease</th>\n",
       "      <th rowspan=\"2\" valign=\"top\">Basal ganglia</th>\n",
       "      <th>f</th>\n",
       "      <td>11</td>\n",
       "      <td>11</td>\n",
       "    </tr>\n",
       "    <tr>\n",
       "      <th>m</th>\n",
       "      <td>15</td>\n",
       "      <td>15</td>\n",
       "    </tr>\n",
       "    <tr>\n",
       "      <th rowspan=\"2\" valign=\"top\">Cerebral cortex</th>\n",
       "      <th>f</th>\n",
       "      <td>6</td>\n",
       "      <td>6</td>\n",
       "    </tr>\n",
       "    <tr>\n",
       "      <th>m</th>\n",
       "      <td>8</td>\n",
       "      <td>8</td>\n",
       "    </tr>\n",
       "  </tbody>\n",
       "</table>\n",
       "</div>"
      ],
      "text/plain": [
       "                                            Source  Sample\n",
       "Phenotype           Region2         Sex                   \n",
       "Alzheimer's disease Cerebral cortex Female     304     304\n",
       "                                    Male       171     171\n",
       "Parkinson's disease Basal ganglia   f           11      11\n",
       "                                    m           15      15\n",
       "                    Cerebral cortex f            6       6\n",
       "                                    m            8       8"
      ]
     },
     "execution_count": 229,
     "metadata": {},
     "output_type": "execute_result"
    }
   ],
   "source": [
    "## We drop blood samples\n",
    "pro_meta=pro_meta.loc[pro_meta.Region1!='Blood',]\n",
    "\n",
    "pro_meta.groupby(['Phenotype','Region2','Sex'])[['Source','Sample']].agg('count')"
   ]
  },
  {
   "cell_type": "markdown",
   "metadata": {},
   "source": [
    "For AD we also randomly select 171 females so that we have equal number of male and female samples."
   ]
  },
  {
   "cell_type": "code",
   "execution_count": 230,
   "metadata": {},
   "outputs": [],
   "source": [
    "ad_f=pro_meta.loc[(pro_meta.Phenotype.str.contains('Alzheimer'))&(pro_meta.Sex=='Female'),][:171]\n",
    "ad_m=pro_meta.loc[(pro_meta.Phenotype.str.contains('Alzheimer'))&(pro_meta.Sex=='Male'),]\n",
    "pd_b=pro_meta.loc[(pro_meta.Phenotype.str.contains('Parkinson')),]"
   ]
  },
  {
   "cell_type": "code",
   "execution_count": 231,
   "metadata": {},
   "outputs": [],
   "source": [
    "pro_meta=pd.concat([pd.concat([ad_f,ad_m]),pd_b])"
   ]
  },
  {
   "cell_type": "code",
   "execution_count": 232,
   "metadata": {},
   "outputs": [
    {
     "name": "stdout",
     "output_type": "stream",
     "text": [
      "Saved file ../data/meta_pro.pkl\n"
     ]
    }
   ],
   "source": [
    "pkl_save('../data/meta_pro.pkl',pro_meta)"
   ]
  },
  {
   "cell_type": "code",
   "execution_count": 233,
   "metadata": {},
   "outputs": [],
   "source": [
    "pro_meta=pkl_load('../data/meta_pro.pkl')"
   ]
  },
  {
   "cell_type": "markdown",
   "metadata": {},
   "source": [
    "Men and women have different ages, but we will not further examine this as they are all with a ~10 year difference."
   ]
  },
  {
   "cell_type": "code",
   "execution_count": 234,
   "metadata": {},
   "outputs": [
    {
     "data": {
      "image/png": "[encoded data removed]",
      "text/plain": [
       "<Figure size 864x432 with 2 Axes>"
      ]
     },
     "metadata": {
      "needs_background": "light"
     },
     "output_type": "display_data"
    }
   ],
   "source": [
    "fig,ax=plt.subplots(ncols=2, figsize=(12,6))\n",
    "ax=ax.flatten()\n",
    "\n",
    "for vv in [0,1]:\n",
    "    itype=['Parkinson','Alzheimer'][vv]\n",
    "    sb.boxplot(\n",
    "        data=pro_meta.loc[pro_meta.Phenotype.str.contains(itype)],\n",
    "        x='Region2',  y='Age', hue='Sex', ax=ax[vv]\n",
    "    )\n",
    "    \n",
    "    ax[vv].title.set_text(itype)"
   ]
  },
  {
   "cell_type": "markdown",
   "metadata": {},
   "source": [
    "Dropping NAs"
   ]
  },
  {
   "cell_type": "code",
   "execution_count": 235,
   "metadata": {},
   "outputs": [],
   "source": [
    "pro_data=data.copy()\n",
    "pro_data=pro_data.loc[pro_data.isna().sum(1)==0,]\n",
    "pro_data=pro_data.merge(hpa, left_index=True, right_index=True, how='left').loc[:,np.append(['Gene'],pro_data.columns)]\n",
    "\n",
    "pro_data=pro_data.loc[:,np.append(['Gene'], pro_meta.Colname)]"
   ]
  },
  {
   "cell_type": "code",
   "execution_count": 236,
   "metadata": {},
   "outputs": [
    {
     "name": "stdout",
     "output_type": "stream",
     "text": [
      "Saved file ../data/processed_gex.pkl\n"
     ]
    }
   ],
   "source": [
    "pkl_save('../data/processed_gex.pkl',pro_data)"
   ]
  },
  {
   "cell_type": "markdown",
   "metadata": {},
   "source": [
    "Because we have a substantially higher number of AD samples than PD, let's generate 2 networks instead of a single one that includes both groups. We will explore each network sepparately. Both networks will not be comparable quantitatively as their sizes are very different."
   ]
  },
  {
   "cell_type": "code",
   "execution_count": 43,
   "metadata": {},
   "outputs": [],
   "source": [
    "#setting gene names as index\n",
    "pro_pd=pro_data.copy().set_index('Gene')\n",
    "pro_pd=pro_pd.loc[:,pro_pd.columns.isin(np.append(['Gene'],pro_meta.loc[pro_meta.Phenotype.str.contains('Parkinson'),'Colname']))]\n",
    "\n",
    "pro_ad=pro_data.copy().set_index('Gene')\n",
    "pro_ad=pro_ad.loc[:,pro_ad.columns.isin(np.append(['Gene'],pro_meta.loc[pro_meta.Phenotype.str.contains('Alzheimer'),'Colname']))]\n"
   ]
  },
  {
   "cell_type": "markdown",
   "metadata": {},
   "source": [
    "Checking expression values"
   ]
  },
  {
   "cell_type": "code",
   "execution_count": 73,
   "metadata": {},
   "outputs": [
    {
     "data": {
      "image/png": "[encoded data removed]",
      "text/plain": [
       "<Figure size 432x288 with 1 Axes>"
      ]
     },
     "metadata": {
      "needs_background": "light"
     },
     "output_type": "display_data"
    }
   ],
   "source": [
    "fig,ax=plt.subplots()\n",
    "sb.histplot(\n",
    "    pro_pd.mean(1), kde=True, cumulative=True, bins=300, stat='probability', ax=ax\n",
    ")\n",
    "ax.set(xlim=(-10,100), ylim=(-0.1,1));"
   ]
  },
  {
   "cell_type": "code",
   "execution_count": 65,
   "metadata": {},
   "outputs": [
    {
     "data": {
      "image/png": "[encoded data removed]",
      "text/plain": [
       "<Figure size 432x288 with 1 Axes>"
      ]
     },
     "metadata": {
      "needs_background": "light"
     },
     "output_type": "display_data"
    }
   ],
   "source": [
    "fig,ax=plt.subplots()\n",
    "sb.histplot(\n",
    "    pro_ad.mean(1), kde=True, cumulative=True, bins=300, stat='probability', ax=ax\n",
    ")\n",
    "ax.set(xlim=(-10,100));"
   ]
  },
  {
   "cell_type": "markdown",
   "metadata": {},
   "source": [
    "We drop the bottom 15% lowly expressed genes."
   ]
  },
  {
   "cell_type": "code",
   "execution_count": 105,
   "metadata": {},
   "outputs": [],
   "source": [
    "pro_pd=pro_pd.loc[\n",
    "    pro_pd.mean(1).sort_values().rank(pct=True).where(pro_pd.mean(1).sort_values().rank(pct=True)>0.15).dropna().index]"
   ]
  },
  {
   "cell_type": "code",
   "execution_count": 107,
   "metadata": {},
   "outputs": [],
   "source": [
    "pro_ad=pro_ad.loc[\n",
    "    pro_ad.mean(1).sort_values().rank(pct=True).where(pro_ad.mean(1).sort_values().rank(pct=True)>0.15).dropna().index]"
   ]
  },
  {
   "cell_type": "markdown",
   "metadata": {},
   "source": [
    "Variance"
   ]
  },
  {
   "cell_type": "code",
   "execution_count": 114,
   "metadata": {},
   "outputs": [
    {
     "data": {
      "image/png": "[encoded data removed]",
      "text/plain": [
       "<Figure size 432x288 with 1 Axes>"
      ]
     },
     "metadata": {
      "needs_background": "light"
     },
     "output_type": "display_data"
    }
   ],
   "source": [
    "fig,ax=plt.subplots()\n",
    "sb.histplot(\n",
    "    pro_pd.var(1), kde=True, log_scale=True, cumulative=True, bins=75, stat='probability'\n",
    ")\n",
    "ax.set(xlim=(1,1000));"
   ]
  },
  {
   "cell_type": "code",
   "execution_count": 119,
   "metadata": {},
   "outputs": [
    {
     "data": {
      "image/png": "[encoded data removed]",
      "text/plain": [
       "<Figure size 432x288 with 1 Axes>"
      ]
     },
     "metadata": {
      "needs_background": "light"
     },
     "output_type": "display_data"
    }
   ],
   "source": [
    "fig,ax=plt.subplots()\n",
    "sb.histplot(\n",
    "    pro_ad.var(1), kde=True, log_scale=True, cumulative=True, bins=75, stat='probability'\n",
    ")\n",
    "ax.set(xlim=(1e-3,1e4));"
   ]
  },
  {
   "cell_type": "markdown",
   "metadata": {},
   "source": [
    "Dropping genes with variance in bottom 15%"
   ]
  },
  {
   "cell_type": "code",
   "execution_count": 3,
   "metadata": {},
   "outputs": [],
   "source": [
    "pro_pd=pro_pd.loc[pro_pd.var(1).rank(pct=True).where(pro_pd.var(1).rank(pct=True)>0.15).dropna().index]\n",
    "pro_ad=pro_ad.loc[pro_ad.var(1).rank(pct=True).where(pro_ad.var(1).rank(pct=True)>0.15).dropna().index]"
   ]
  },
  {
   "cell_type": "markdown",
   "metadata": {},
   "source": [
    "Because we have a substantially higher number of AD samples than PD, let's generate 2 networks instead of a single one that includes both groups. We will explore each network sepparately. Both networks will not be comparable quantitatively as their sizes are very different."
   ]
  },
  {
   "cell_type": "code",
   "execution_count": 4,
   "metadata": {},
   "outputs": [
    {
     "name": "stdout",
     "output_type": "stream",
     "text": [
      "Saved file ../data/pro_pd_expression.pkl\n",
      "Saved file ../data/pro_ad_expression.pkl\n"
     ]
    }
   ],
   "source": [
    "pkl_save('../data/pro_pd_expression.pkl',pro_pd)\n",
    "pkl_save('../data/pro_ad_expression.pkl',pro_ad)"
   ]
  },
  {
   "cell_type": "markdown",
   "metadata": {},
   "source": [
    "# Association analysis"
   ]
  },
  {
   "cell_type": "markdown",
   "metadata": {},
   "source": [
    "**PD**"
   ]
  },
  {
   "cell_type": "code",
   "execution_count": 5,
   "metadata": {},
   "outputs": [],
   "source": [
    "def make_correlation(input_df):\n",
    "    print('Computing correlations...')\n",
    "    #Correlation and P val matrices\n",
    "    Rmatrix, Pmatrix= sp.stats.spearmanr(input_df.T)\n",
    "    Rmatrix=pd.DataFrame(Rmatrix, index=input_df.index.copy(), columns=input_df.index.copy())\n",
    "    Pmatrix=pd.DataFrame(Pmatrix, index=input_df.index.copy(), columns=input_df.index.copy())\n",
    "\n",
    "    print('Preparing to correct...')\n",
    "    #prepare P matrix\n",
    "    Psquared=Pmatrix.where(np.triu(np.ones(Pmatrix.shape),1).astype(bool))\n",
    "    Psquared.columns.name='Feat2'\n",
    "    Pmatrix=Pmatrix.stack()\n",
    "    Pmatrix.index.names=['v1','v2']\n",
    "    Pmatrix=Pmatrix.reset_index()\n",
    "    Pmatrix.columns=['feat1','feat2','P']\n",
    "    \n",
    "    #prepare R matrix\n",
    "    Rmatrix=Rmatrix.where(np.triu(np.ones(Rmatrix.shape),1).astype(bool))\n",
    "    Rmatrix.columns.name='Feat2'\n",
    "    Rmatrix=Rmatrix.stack()\n",
    "    Rmatrix.index.names=['v1','v2'] #Avoid stacked names colliding\n",
    "    Rmatrix=Rmatrix.reset_index()\n",
    "    Rmatrix.columns=['feat1','feat2','R']\n",
    "\n",
    "    print('Joining triangular matrices...')\n",
    "    # join both\n",
    "    PRmatrix=pd.merge(Rmatrix.copy(), Pmatrix.copy(), on=['feat1','feat2']) \n",
    "    PRmatrix=PRmatrix.loc[PRmatrix.feat1!=PRmatrix.feat2].dropna()\n",
    "    PRmatrix.reset_index(inplace=True,drop=True)\n",
    "    \n",
    "    print('Correcting P values (bonferroni)...')\n",
    "    #Multiple hypothesis correction computed on the P column\n",
    "    adjP=pd.DataFrame(multipletests(PRmatrix['P'], method='bonferroni')[1], columns=['Bonferroni'])\n",
    "\n",
    "    print('Correcting P values (FDR)...')\n",
    "    FDR=pd.DataFrame(multipletests(PRmatrix['P'], method='fdr_bh')[1], columns=['FDR'])\n",
    "    \n",
    "    PRmatrix=pd.concat([ PRmatrix, adjP], axis=1)\n",
    "    PRmatrix=pd.concat([ PRmatrix, FDR], axis=1)\n",
    "    \n",
    "    # Imputing R where non significant\n",
    "    print('Correcting R where FDR and Bonferroni are not significant...')\n",
    "    PRmatrix.loc[:,'R (bonferroni)']=PRmatrix['R'].copy()\n",
    "    PRmatrix.loc[:,'R (fdr)']=PRmatrix['R'].copy()\n",
    "    PRmatrix.loc[PRmatrix['Bonferroni']>0.01,'R (bonferroni)']=0\n",
    "    PRmatrix.loc[PRmatrix['FDR']>0.01,'R (fdr)']=0\n",
    "    \n",
    "    print('Done.')\n",
    "    return(PRmatrix)"
   ]
  },
  {
   "cell_type": "code",
   "execution_count": 6,
   "metadata": {},
   "outputs": [
    {
     "name": "stdout",
     "output_type": "stream",
     "text": [
      "Computing correlations...\n",
      "Preparing to correct...\n",
      "Joining triangular matrices...\n",
      "Correcting P values (bonferroni)...\n",
      "Correcting P values (FDR)...\n",
      "Correcting R where FDR and Bonferroni are not significant...\n",
      "Done.\n"
     ]
    }
   ],
   "source": [
    "corr_pd=make_correlation(pro_pd)"
   ]
  },
  {
   "cell_type": "code",
   "execution_count": 7,
   "metadata": {},
   "outputs": [
    {
     "name": "stdout",
     "output_type": "stream",
     "text": [
      "Computing correlations...\n",
      "Preparing to correct...\n",
      "Joining triangular matrices...\n",
      "Correcting P values (bonferroni)...\n",
      "Correcting P values (FDR)...\n",
      "Correcting R where FDR and Bonferroni are not significant...\n",
      "Done.\n"
     ]
    }
   ],
   "source": [
    "corr_ad=make_correlation(pro_ad)"
   ]
  },
  {
   "cell_type": "code",
   "execution_count": 8,
   "metadata": {},
   "outputs": [
    {
     "name": "stdout",
     "output_type": "stream",
     "text": [
      "Saved file ../data/corr_pd.pkl\n",
      "Saved file ../data/corr_ad.pkl\n"
     ]
    }
   ],
   "source": [
    "pkl_save('../data/corr_pd.pkl', corr_pd)\n",
    "pkl_save('../data/corr_ad.pkl', corr_ad)"
   ]
  },
  {
   "cell_type": "markdown",
   "metadata": {},
   "source": [
    "Number of statistically significant corrs:"
   ]
  },
  {
   "cell_type": "code",
   "execution_count": 10,
   "metadata": {},
   "outputs": [
    {
     "name": "stdout",
     "output_type": "stream",
     "text": [
      "PD\n",
      "FDR<0.01:\t39183251\n",
      "FDR<0.001:\t38826293\n",
      "FDR<0.0001:\t38211314\n",
      "FDR<1e-05:\t37208188\n",
      "FDR<1e-06:\t35759717\n",
      "FDR<1e-07:\t33994120\n",
      "FDR<1e-08:\t32088665\n",
      "FDR<1e-09:\t30147025\n"
     ]
    }
   ],
   "source": [
    "print('PD')\n",
    "for x in [(10**(-x)) for x in range(2,10)]:\n",
    "    print('FDR<'+str(x)+':'+\"\\t\"+str(corr_pd.loc[corr_pd.FDR<x,].shape[0]))"
   ]
  },
  {
   "cell_type": "code",
   "execution_count": 9,
   "metadata": {},
   "outputs": [
    {
     "name": "stdout",
     "output_type": "stream",
     "text": [
      "AD\n",
      "FDR<0.01:\t39363079\n",
      "FDR<0.001:\t39172479\n",
      "FDR<0.0001:\t38948148\n",
      "FDR<1e-05:\t38691139\n",
      "FDR<1e-06:\t38405951\n",
      "FDR<1e-07:\t38093600\n",
      "FDR<1e-08:\t37754911\n",
      "FDR<1e-09:\t37392006\n"
     ]
    }
   ],
   "source": [
    "print('AD')\n",
    "for x in [(10**(-x)) for x in range(2,10)]:\n",
    "    print('FDR<'+str(x)+':'+\"\\t\"+str(corr_ad.loc[corr_ad.FDR<x,].shape[0]))"
   ]
  },
  {
   "cell_type": "markdown",
   "metadata": {},
   "source": [
    "Because we have too many correlations, we will select top 1% correlations for further analysis"
   ]
  },
  {
   "cell_type": "code",
   "execution_count": 11,
   "metadata": {},
   "outputs": [],
   "source": [
    "corr_pd=corr_pd.sort_values('FDR',ascending=True).iloc[:(int(corr_pd.shape[0]*0.01))]"
   ]
  },
  {
   "cell_type": "code",
   "execution_count": 12,
   "metadata": {},
   "outputs": [],
   "source": [
    "corr_ad=corr_ad.sort_values('FDR',ascending=True).iloc[:(int(corr_ad.shape[0]*0.01))]"
   ]
  },
  {
   "cell_type": "code",
   "execution_count": 14,
   "metadata": {},
   "outputs": [
    {
     "name": "stdout",
     "output_type": "stream",
     "text": [
      "Saved file ../data/corr_ad_1pct.pkl\n",
      "Saved file ../data/corr_pd_1pct.pkl\n"
     ]
    }
   ],
   "source": [
    "pkl_save('../data/corr_ad_1pct.pkl',corr_ad)\n",
    "pkl_save('../data/corr_pd_1pct.pkl',corr_pd)"
   ]
  },
  {
   "cell_type": "code",
   "execution_count": null,
   "metadata": {},
   "outputs": [],
   "source": [
    "corr_ad=pkl_load('../data/corr_ad_1pct.pkl')\n",
    "corr_pd=pkl_load('../data/corr_pd_1pct.pkl')"
   ]
  },
  {
   "cell_type": "markdown",
   "metadata": {},
   "source": [
    "All correlations are R>0.9"
   ]
  },
  {
   "cell_type": "code",
   "execution_count": 21,
   "metadata": {},
   "outputs": [
    {
     "data": {
      "text/plain": [
       "0.905521847103986"
      ]
     },
     "execution_count": 21,
     "metadata": {},
     "output_type": "execute_result"
    }
   ],
   "source": [
    "corr_ad.R.min()"
   ]
  },
  {
   "cell_type": "code",
   "execution_count": 22,
   "metadata": {},
   "outputs": [
    {
     "data": {
      "text/plain": [
       "0.9663045549838002"
      ]
     },
     "execution_count": 22,
     "metadata": {},
     "output_type": "execute_result"
    }
   ],
   "source": [
    "corr_pd.R.min()"
   ]
  },
  {
   "cell_type": "code",
   "execution_count": 25,
   "metadata": {},
   "outputs": [],
   "source": [
    "gex=pro_ad.copy().T\n",
    "gex=pd.merge(gex,pro_meta, left_index=True, right_on='Colname')"
   ]
  },
  {
   "cell_type": "code",
   "execution_count": 27,
   "metadata": {},
   "outputs": [
    {
     "data": {
      "text/html": [
       "<div>\n",
       "<style scoped>\n",
       "    .dataframe tbody tr th:only-of-type {\n",
       "        vertical-align: middle;\n",
       "    }\n",
       "\n",
       "    .dataframe tbody tr th {\n",
       "        vertical-align: top;\n",
       "    }\n",
       "\n",
       "    .dataframe thead th {\n",
       "        text-align: right;\n",
       "    }\n",
       "</style>\n",
       "<table border=\"1\" class=\"dataframe\">\n",
       "  <thead>\n",
       "    <tr style=\"text-align: right;\">\n",
       "      <th></th>\n",
       "      <th>mean_variance</th>\n",
       "    </tr>\n",
       "    <tr>\n",
       "      <th>Source</th>\n",
       "      <th></th>\n",
       "    </tr>\n",
       "  </thead>\n",
       "  <tbody>\n",
       "    <tr>\n",
       "      <th>ROSMAP_RNA_array</th>\n",
       "      <td>0.117088</td>\n",
       "    </tr>\n",
       "    <tr>\n",
       "      <th>ROSMAP_bulk_brain_RNA_seq</th>\n",
       "      <td>22.079429</td>\n",
       "    </tr>\n",
       "    <tr>\n",
       "      <th>ROSMAP_microglia_RNA_seq</th>\n",
       "      <td>0.157822</td>\n",
       "    </tr>\n",
       "    <tr>\n",
       "      <th>ROSMAP_single_nucleus_RNA_seq</th>\n",
       "      <td>15.195044</td>\n",
       "    </tr>\n",
       "  </tbody>\n",
       "</table>\n",
       "</div>"
      ],
      "text/plain": [
       "                               mean_variance\n",
       "Source                                      \n",
       "ROSMAP_RNA_array                    0.117088\n",
       "ROSMAP_bulk_brain_RNA_seq          22.079429\n",
       "ROSMAP_microglia_RNA_seq            0.157822\n",
       "ROSMAP_single_nucleus_RNA_seq      15.195044"
      ]
     },
     "execution_count": 27,
     "metadata": {},
     "output_type": "execute_result"
    }
   ],
   "source": [
    "pd.DataFrame(\n",
    "    pro_ad.T.merge(pro_meta[['Source','Colname']], left_index=True, right_on='Colname').set_index('Colname').groupby('Source').var().dropna().mean(1), columns=['mean_variance'])"
   ]
  },
  {
   "cell_type": "markdown",
   "metadata": {},
   "source": [
    "Features and degree"
   ]
  },
  {
   "cell_type": "code",
   "execution_count": 30,
   "metadata": {},
   "outputs": [],
   "source": [
    "def boxplot_neighbors(input_DF):\n",
    "    Rmatrix_fdr=input_DF.R\n",
    "    neighbor_number=pd.DataFrame()\n",
    "    for n_neighbors in np.arange(1,21):\n",
    "        fdr_count=((Rmatrix_fdr!=0).sum()==n_neighbors).sum()\n",
    "\n",
    "        out=pd.Series([fdr_count], index=['num_features(FDR)'], name=n_neighbors)\n",
    "        neighbor_number=pd.concat([neighbor_number, out],1)\n",
    "\n",
    "    neighbor_number=neighbor_number.T.rename_axis('num_neighbors').reset_index()\n",
    "\n",
    "    fig,ax=plt.subplots(figsize=(16, 8))\n",
    "\n",
    "    ### boxplot requires a long df\n",
    "    feat_associations_fdr=pd.concat([\n",
    "        input_DF.copy().loc[input_DF['R (fdr)']!=0,][['feat1','feat2']],\n",
    "        input_DF.copy().loc[input_DF['R (fdr)']!=0,][['feat2','feat1']].rename(columns={'feat1':'feat2','feat2':'feat1'})]).drop_duplicates().groupby('feat1').agg('count')\n",
    "\n",
    "    feat_associations=feat_associations_fdr\n",
    "    feat_associations.fillna(0,inplace=True)\n",
    "    feat_associations.columns=['FDR']\n",
    "\n",
    "    sns.boxplot( data=feat_associations, notch=True, ax=ax, orient='h', palette={'Padj':'black','FDR':'red'});\n",
    "    plt.title('Number of associations per feature')\n",
    "    fig.tight_layout()\n",
    "    plt.show()"
   ]
  },
  {
   "cell_type": "code",
   "execution_count": 31,
   "metadata": {},
   "outputs": [
    {
     "data": {
      "image/png": "[encoded data removed]",
      "text/plain": [
       "<Figure size 1152x576 with 1 Axes>"
      ]
     },
     "metadata": {
      "needs_background": "light"
     },
     "output_type": "display_data"
    }
   ],
   "source": [
    "boxplot_neighbors(corr_pd)"
   ]
  },
  {
   "cell_type": "code",
   "execution_count": 32,
   "metadata": {},
   "outputs": [
    {
     "data": {
      "image/png": "[encoded data removed]",
      "text/plain": [
       "<Figure size 1152x576 with 1 Axes>"
      ]
     },
     "metadata": {
      "needs_background": "light"
     },
     "output_type": "display_data"
    }
   ],
   "source": [
    "boxplot_neighbors(corr_ad)"
   ]
  },
  {
   "cell_type": "markdown",
   "metadata": {},
   "source": [
    "# Network construction and preliminary analysis"
   ]
  },
  {
   "cell_type": "markdown",
   "metadata": {},
   "source": [
    "We build 2 random networks to compare with those above."
   ]
  },
  {
   "cell_type": "code",
   "execution_count": 33,
   "metadata": {},
   "outputs": [],
   "source": [
    "### Generates each of the graphs\n",
    "#positive associations, weighted\n",
    "pd_w=ig.Graph.TupleList([tuple(x) for x in corr_pd.values], directed=False, edge_attrs=['w'])\n",
    "ad_w=ig.Graph.TupleList([tuple(x) for x in corr_ad.values], directed=False, edge_attrs=['w'])"
   ]
  },
  {
   "cell_type": "code",
   "execution_count": 34,
   "metadata": {
    "scrolled": true
   },
   "outputs": [],
   "source": [
    "n_pd=len(np.unique([x for y in corr_pd[['feat1','feat2']].values for x in y]))\n",
    "n_ad=len(np.unique([x for y in corr_ad[['feat1','feat2']].values for x in y]))"
   ]
  },
  {
   "cell_type": "code",
   "execution_count": 35,
   "metadata": {},
   "outputs": [],
   "source": [
    "#random network, unweighted, node and edge number based on a network of the same size\n",
    "random_pd=ig.Graph.Erdos_Renyi(n=n_pd, m=len(corr_pd.index.values), directed=False, loops=False)\n",
    "random_ad=ig.Graph.Erdos_Renyi(n=n_ad, m=len(corr_ad.index.values), directed=False, loops=False)"
   ]
  },
  {
   "cell_type": "code",
   "execution_count": 36,
   "metadata": {},
   "outputs": [
    {
     "data": {
      "text/html": [
       "<div>\n",
       "<style scoped>\n",
       "    .dataframe tbody tr th:only-of-type {\n",
       "        vertical-align: middle;\n",
       "    }\n",
       "\n",
       "    .dataframe tbody tr th {\n",
       "        vertical-align: top;\n",
       "    }\n",
       "\n",
       "    .dataframe thead th {\n",
       "        text-align: right;\n",
       "    }\n",
       "</style>\n",
       "<table border=\"1\" class=\"dataframe\">\n",
       "  <thead>\n",
       "    <tr style=\"text-align: right;\">\n",
       "      <th></th>\n",
       "      <th>node_count</th>\n",
       "      <th>edge_count</th>\n",
       "      <th>diameter</th>\n",
       "      <th>av_path_length</th>\n",
       "      <th>density</th>\n",
       "      <th>clustering_coef</th>\n",
       "      <th>connected?</th>\n",
       "      <th>minimum_cut</th>\n",
       "    </tr>\n",
       "  </thead>\n",
       "  <tbody>\n",
       "    <tr>\n",
       "      <th>PD</th>\n",
       "      <td>5857</td>\n",
       "      <td>394405</td>\n",
       "      <td>18</td>\n",
       "      <td>3.598169</td>\n",
       "      <td>0.022998</td>\n",
       "      <td>0.39698</td>\n",
       "      <td>False</td>\n",
       "      <td>0.0</td>\n",
       "    </tr>\n",
       "    <tr>\n",
       "      <th>AD</th>\n",
       "      <td>4861</td>\n",
       "      <td>396985</td>\n",
       "      <td>11</td>\n",
       "      <td>3.004173</td>\n",
       "      <td>0.033608</td>\n",
       "      <td>0.442838</td>\n",
       "      <td>False</td>\n",
       "      <td>0.0</td>\n",
       "    </tr>\n",
       "    <tr>\n",
       "      <th>Random_PD</th>\n",
       "      <td>5857</td>\n",
       "      <td>394405</td>\n",
       "      <td>3</td>\n",
       "      <td>2.021067</td>\n",
       "      <td>0.022998</td>\n",
       "      <td>0.022961</td>\n",
       "      <td>True</td>\n",
       "      <td>89.0</td>\n",
       "    </tr>\n",
       "    <tr>\n",
       "      <th>Random_AD</th>\n",
       "      <td>4861</td>\n",
       "      <td>396985</td>\n",
       "      <td>3</td>\n",
       "      <td>1.970365</td>\n",
       "      <td>0.033608</td>\n",
       "      <td>0.033672</td>\n",
       "      <td>True</td>\n",
       "      <td>114.0</td>\n",
       "    </tr>\n",
       "  </tbody>\n",
       "</table>\n",
       "</div>"
      ],
      "text/plain": [
       "          node_count edge_count diameter av_path_length   density  \\\n",
       "PD              5857     394405       18       3.598169  0.022998   \n",
       "AD              4861     396985       11       3.004173  0.033608   \n",
       "Random_PD       5857     394405        3       2.021067  0.022998   \n",
       "Random_AD       4861     396985        3       1.970365  0.033608   \n",
       "\n",
       "          clustering_coef connected? minimum_cut  \n",
       "PD                0.39698      False         0.0  \n",
       "AD               0.442838      False         0.0  \n",
       "Random_PD        0.022961       True        89.0  \n",
       "Random_AD        0.033672       True       114.0  "
      ]
     },
     "execution_count": 36,
     "metadata": {},
     "output_type": "execute_result"
    }
   ],
   "source": [
    "#function to get graph properties, takes a few minutes to run\n",
    "def graph_prop(input_graph):\n",
    "    ncount=nn.vcount()\n",
    "    ecount=nn.ecount()\n",
    "    diameter=nn.diameter()\n",
    "    av_path=nn.average_path_length()\n",
    "    dens=nn.density()\n",
    "    clustering=nn.transitivity_undirected() #this is the global clustering coefficient\n",
    "    conn=nn.is_connected()\n",
    "    min_cut=nn.mincut_value()\n",
    "    out=pd.DataFrame([ncount, ecount, diameter, av_path, dens, clustering, conn, min_cut],\n",
    "                 index=['node_count','edge_count','diameter','av_path_length','density','clustering_coef','connected?','minimum_cut']).T\n",
    "    return(out)\n",
    "\n",
    "#summarizing graph properties\n",
    "network_stats=pd.DataFrame()\n",
    "for nn in [pd_w, ad_w, random_pd, random_ad]:\n",
    "    network_stats=pd.concat([network_stats,graph_prop(nn)])\n",
    "    \n",
    "network_stats.index=['PD','AD','Random_PD','Random_AD']\n",
    "network_stats"
   ]
  },
  {
   "cell_type": "markdown",
   "metadata": {},
   "source": [
    "# Centrality analysis"
   ]
  },
  {
   "cell_type": "code",
   "execution_count": 37,
   "metadata": {},
   "outputs": [
    {
     "data": {
      "image/png": "[encoded data removed]",
      "text/plain": [
       "<Figure size 1080x360 with 2 Axes>"
      ]
     },
     "metadata": {
      "needs_background": "light"
     },
     "output_type": "display_data"
    }
   ],
   "source": [
    "fig, axes=plt.subplots(nrows=1, ncols=2, figsize=(15,5))\n",
    "\n",
    "for i, ax in zip(range(2), axes.flat):\n",
    "    sns.regplot(x=[pd_w, ad_w][i].degree(), y=[random_pd, random_ad][i].degree(), \n",
    "                ax=ax, color=['blue','lightsalmon','green'][i],\n",
    "               line_kws={'color':'black'}\n",
    "               );\n",
    "    ax.set_title(['PD','AD'][i])\n",
    "    ax.set(xlabel='k ('+['PD','AD'][i]+')', ylabel='k (random)')"
   ]
  },
  {
   "cell_type": "code",
   "execution_count": 39,
   "metadata": {
    "scrolled": false
   },
   "outputs": [
    {
     "data": {
      "image/png": "[encoded data removed]",
      "text/plain": [
       "<Figure size 504x504 with 1 Axes>"
      ]
     },
     "metadata": {
      "needs_background": "light"
     },
     "output_type": "display_data"
    }
   ],
   "source": [
    "def transform_degree(graph):\n",
    "    alldegs=graph.degree()\n",
    "    alldegs=pd.DataFrame([[key,len(list(group))] for key,group in itertools.groupby(alldegs)], columns=['k','count'])\n",
    "    alldegs['P(k)']=[x/alldegs['count'].sum() for x in alldegs['count']]\n",
    "    alldegs=alldegs.loc[:,['k','P(k)']]\n",
    "    alldegs.drop_duplicates(inplace=True)\n",
    "    alldegs.reset_index(drop=True, inplace=True)\n",
    "    return(alldegs)\n",
    "\n",
    "\n",
    "fig, ax = plt.subplots(figsize=(7, 7))\n",
    "p=sp.stats.probplot(pd_w.degree(), plot=ax)\n",
    "a=sp.stats.probplot(ad_w.degree(), plot=ax)\n",
    "k=sp.stats.probplot(random_pd.degree(), plot=ax)\n",
    "r=sp.stats.probplot(random_ad.degree(), plot=ax)\n",
    "\n",
    "col=['blue','','peru','','green','','lightblue','']\n",
    "for x in np.arange(0,7,2):\n",
    "    ax.get_lines()[x].set_markerfacecolor(col[x])\n",
    "    ax.get_lines()[x].set_markeredgewidth(0)\n",
    "    ax.get_lines()[x+1].set_color(col[x])\n",
    "\n",
    "\n",
    "fig.legend(labels=['PD','PD','AD','AD','Random_PD','Random_PD','Random_AD','Random_AD']);\n",
    "\n",
    "ax.set(xlabel='Data quantiles', ylabel='observed degree (k)')\n",
    "plt.show()"
   ]
  },
  {
   "cell_type": "markdown",
   "metadata": {},
   "source": [
    "**Centrality**  \n",
    "We will now compare different centrality metrics between the graphs."
   ]
  },
  {
   "cell_type": "code",
   "execution_count": null,
   "metadata": {},
   "outputs": [],
   "source": [
    "centralities_list=['degree (larger ~ central)','eccentricity (smaller ~ central)','betweenness (larger ~ central)', 'closeness (larger ~ central)','eigenvector (larger ~ central)']\n",
    "\n",
    "def combine_raw_centralities():\n",
    "    \"\"\"\n",
    "    Combines centrality metrics\n",
    "    \"\"\"\n",
    "    def centrality_raw(input_graph, graph_name):\n",
    "        \"\"\"\n",
    "        Computes centrality metrics for a graph.\n",
    "        \"\"\"\n",
    "        deg=input_graph.degree(loops=False)\n",
    "        node_n=input_graph.vcount()\n",
    "        #scaled to account for network size\n",
    "        ecc=[(2*x / ((node_n-1)*(node_n-2))) for x in input_graph.eccentricity()]\n",
    "        btw=[(2*x / ((node_n-1)*(node_n-2))) for x in input_graph.betweenness(directed=False)] \n",
    "        eig=input_graph.eigenvector_centrality(directed=False, scale=False)\n",
    "        \n",
    "        # For disconnected graphs, computes closeness from the largest connected component\n",
    "        if(input_graph.is_connected()):\n",
    "            cls=input_graph.closeness(normalized=True)\n",
    "        else:\n",
    "            cls=input_graph.clusters(mode='WEAK').giant().closeness(normalized=True)\n",
    "        \n",
    "        out=pd.DataFrame([deg, ecc, btw, cls,eig], index=centralities_list).T\n",
    "        out['graph']=graph_name\n",
    "        out=out.loc[:,np.append(['graph'],out.columns[out.columns!='graph'])]\n",
    "        \n",
    "        ##Adds centralities for each node in the network\n",
    "        input_graph.vs['degree']=out['degree (larger ~ central)']\n",
    "        input_graph.vs['eccentricity']=out['eccentricity (smaller ~ central)']\n",
    "        input_graph.vs['betweenness']=out['betweenness (larger ~ central)']\n",
    "        input_graph.vs['closeness']=out['closeness (larger ~ central)']\n",
    "        input_graph.vs['eigenvector']=out['eigenvector (larger ~ central)']\n",
    "        \n",
    "        return(out)\n",
    "    \n",
    "    #Computes centralities for all networks\n",
    "    network_centralities_raw=pd.DataFrame()\n",
    "    network_centralities_raw=pd.concat([network_centralities_raw,centrality_raw(pd_w,'PD')])\n",
    "    network_centralities_raw=pd.concat([network_centralities_raw,centrality_raw(ad_w,'AD')])\n",
    "    network_centralities_raw=pd.concat([network_centralities_raw,centrality_raw(random_pd,'Random_PD')])\n",
    "    network_centralities_raw=pd.concat([network_centralities_raw,centrality_raw(random_ad,'Random_AD')])\n",
    "    return(network_centralities_raw)\n",
    "\n",
    "network_centralities_raw=combine_raw_centralities()"
   ]
  },
  {
   "cell_type": "code",
   "execution_count": 42,
   "metadata": {},
   "outputs": [
    {
     "data": {
      "image/png": "[encoded data removed]",
      "text/plain": [
       "<Figure size 1152x1440 with 4 Axes>"
      ]
     },
     "metadata": {
      "needs_background": "light"
     },
     "output_type": "display_data"
    }
   ],
   "source": [
    "\n",
    "fig, axes=plt.subplots(nrows=4, figsize=(16,20), sharey='row')\n",
    "for i, ax in zip(range(4), axes.flat):\n",
    "    sns.boxplot(\n",
    "        data=network_centralities_raw, x='graph', y=centralities_list[i],  notch=True, ax=ax, showfliers=False)\n",
    "    ax.set_title(centralities_list[i])\n",
    "    ax.set(xlabel='')"
   ]
  },
  {
   "cell_type": "code",
   "execution_count": 41,
   "metadata": {},
   "outputs": [
    {
     "data": {
      "text/html": [
       "<div>\n",
       "<style scoped>\n",
       "    .dataframe tbody tr th:only-of-type {\n",
       "        vertical-align: middle;\n",
       "    }\n",
       "\n",
       "    .dataframe tbody tr th {\n",
       "        vertical-align: top;\n",
       "    }\n",
       "\n",
       "    .dataframe thead th {\n",
       "        text-align: right;\n",
       "    }\n",
       "</style>\n",
       "<table border=\"1\" class=\"dataframe\">\n",
       "  <thead>\n",
       "    <tr style=\"text-align: right;\">\n",
       "      <th></th>\n",
       "      <th>node_count</th>\n",
       "      <th>edge_count</th>\n",
       "      <th>diameter</th>\n",
       "      <th>av_path_length</th>\n",
       "      <th>density</th>\n",
       "      <th>clustering_coef</th>\n",
       "      <th>connected?</th>\n",
       "      <th>minimum_cut</th>\n",
       "    </tr>\n",
       "  </thead>\n",
       "  <tbody>\n",
       "    <tr>\n",
       "      <th>PD</th>\n",
       "      <td>5857</td>\n",
       "      <td>394405</td>\n",
       "      <td>18</td>\n",
       "      <td>3.598169</td>\n",
       "      <td>0.022998</td>\n",
       "      <td>0.39698</td>\n",
       "      <td>False</td>\n",
       "      <td>0.0</td>\n",
       "    </tr>\n",
       "    <tr>\n",
       "      <th>AD</th>\n",
       "      <td>4861</td>\n",
       "      <td>396985</td>\n",
       "      <td>11</td>\n",
       "      <td>3.004173</td>\n",
       "      <td>0.033608</td>\n",
       "      <td>0.442838</td>\n",
       "      <td>False</td>\n",
       "      <td>0.0</td>\n",
       "    </tr>\n",
       "    <tr>\n",
       "      <th>Random_PD</th>\n",
       "      <td>5857</td>\n",
       "      <td>394405</td>\n",
       "      <td>3</td>\n",
       "      <td>2.021067</td>\n",
       "      <td>0.022998</td>\n",
       "      <td>0.022961</td>\n",
       "      <td>True</td>\n",
       "      <td>89.0</td>\n",
       "    </tr>\n",
       "    <tr>\n",
       "      <th>Random_AD</th>\n",
       "      <td>4861</td>\n",
       "      <td>396985</td>\n",
       "      <td>3</td>\n",
       "      <td>1.970365</td>\n",
       "      <td>0.033608</td>\n",
       "      <td>0.033672</td>\n",
       "      <td>True</td>\n",
       "      <td>114.0</td>\n",
       "    </tr>\n",
       "  </tbody>\n",
       "</table>\n",
       "</div>"
      ],
      "text/plain": [
       "          node_count edge_count diameter av_path_length   density  \\\n",
       "PD              5857     394405       18       3.598169  0.022998   \n",
       "AD              4861     396985       11       3.004173  0.033608   \n",
       "Random_PD       5857     394405        3       2.021067  0.022998   \n",
       "Random_AD       4861     396985        3       1.970365  0.033608   \n",
       "\n",
       "          clustering_coef connected? minimum_cut  \n",
       "PD                0.39698      False         0.0  \n",
       "AD               0.442838      False         0.0  \n",
       "Random_PD        0.022961       True        89.0  \n",
       "Random_AD        0.033672       True       114.0  "
      ]
     },
     "execution_count": 41,
     "metadata": {},
     "output_type": "execute_result"
    }
   ],
   "source": [
    "network_stats"
   ]
  },
  {
   "cell_type": "code",
   "execution_count": 49,
   "metadata": {},
   "outputs": [
    {
     "data": {
      "image/png": "[encoded data removed]",
      "text/plain": [
       "<Figure size 576x1152 with 4 Axes>"
      ]
     },
     "metadata": {
      "needs_background": "light"
     },
     "output_type": "display_data"
    }
   ],
   "source": [
    "### Compute centrality ranks so that we can compare them within and between networks\n",
    "full_centralities=pd.DataFrame()\n",
    "for net in [0,1]:\n",
    "    net_in=[pd_w, ad_w][net]\n",
    "    net_nm=['pd_w', 'ad_w'][net]\n",
    "    temp=pd.DataFrame([net_in.vs[att] for att in ['name','degree','betweenness', 'closeness','eccentricity','eigenvector']], index=['name','degree','betweenness', 'closeness','eccentricity','eigenvector']).T\n",
    "    temp.columns=[x+'|'+net_nm for x in temp.columns]\n",
    "    temp.rename(columns={'name|'+net_nm:'name'}, inplace=True)\n",
    "    \n",
    "    ## For all but eccentricity centrality, we compute the rank in ascending mode\n",
    "    ## so that higher ranking means more central. we need to reverse this for eccentricity\n",
    "    temp.loc[:,temp.columns.str.contains('deg|bet|clos|eig')]=temp.loc[:,temp.columns.str.contains('deg|bet|clos|eig')].rank(pct=True, ascending=True)\n",
    "    temp.loc[:,temp.columns.str.contains('eccentricity')]=temp.loc[:,temp.columns.str.contains('eccentricity')].rank(pct=True, ascending=False\n",
    "                                                              )\n",
    "    temp['median_centrality|'+net_nm]=temp.loc[:,temp.columns!='name'].median(1)\n",
    "    if(net==0):\n",
    "        full_centralities=temp\n",
    "    else:\n",
    "        full_centralities=pd.merge(full_centralities, temp, on='name')\n",
    "full_centralities.set_index('name', inplace=True)\n",
    "full_centralities['median|ALL']=full_centralities.loc[:,full_centralities.columns.str.contains('median')].median(1)\n",
    "\n",
    "\n",
    "### Correlations are computed between ranks, after inverting the rank for eccentricity\n",
    "def correlations_centralities(graph_name):\n",
    "    \"\"\"\n",
    "    Returns squared correlation matrix.\n",
    "    \"\"\"\n",
    "    temp_corr=full_centralities.copy().loc[:,full_centralities.columns!='Type'].dropna().astype('float')\n",
    "    temp_corr=temp_corr.loc[:,temp_corr.columns.str.contains(graph_name)]\n",
    "    temp_corr.columns=temp_corr.columns.str.replace('\\|.+','', regex=True)\n",
    "    temp_corr=temp_corr.corr(method='spearman')\n",
    "    np.fill_diagonal(temp_corr.values, np.nan)\n",
    "    return(temp_corr)\n",
    "\n",
    "pd_centcorr=correlations_centralities('pd_w')\n",
    "ad_centcorr=correlations_centralities('ad_w')\n",
    "\n",
    "fig,ax=plt.subplots(nrows=2, figsize=(8,16), sharex=True)\n",
    "ax=ax.flatten()\n",
    "for i in range(2):\n",
    "    tdata=[pd_centcorr,ad_centcorr][i]\n",
    "    tname=['pd_w','ad_w'][i]\n",
    "    sns.heatmap(tdata, cmap=\"RdBu_r\", center=0, annot=True, ax=ax[i]);\n",
    "    ax[i].set(title=tname)"
   ]
  },
  {
   "cell_type": "markdown",
   "metadata": {},
   "source": [
    "# Community analysis"
   ]
  },
  {
   "cell_type": "markdown",
   "metadata": {},
   "source": [
    "Modularity optimization leads to very large communities. We instead use CPM, and scan resolution to find the value that leads to highest modularity."
   ]
  },
  {
   "cell_type": "code",
   "execution_count": 207,
   "metadata": {},
   "outputs": [
    {
     "name": "stdout",
     "output_type": "stream",
     "text": [
      "10\n",
      "20\n",
      "30\n",
      "40\n",
      "50\n",
      "60\n",
      "70\n",
      "80\n",
      "90\n",
      "100\n",
      "110\n",
      "120\n",
      "130\n",
      "140\n",
      "150\n",
      "160\n",
      "170\n",
      "180\n",
      "190\n",
      "200\n"
     ]
    }
   ],
   "source": [
    "comm_res=pd.DataFrame()\n",
    "j=1\n",
    "for res in np.geomspace(0.001,10,200):\n",
    "    if(j%10==0):\n",
    "        print(j)\n",
    "    j+=1\n",
    "    pd_comm = leidenalg.find_partition(pd_w, leidenalg.CPMVertexPartition, resolution_parameter=res)\n",
    "    ad_comm = leidenalg.find_partition(ad_w, leidenalg.CPMVertexPartition, resolution_parameter=res)\n",
    "    \n",
    "    comm_counts=pd.DataFrame()\n",
    "    for i in [0,1]:\n",
    "        graph=[pd_w,ad_w][i]\n",
    "        comm=[pd_comm,ad_comm][i]\n",
    "        name=['PD','AD'][i]\n",
    "        temp=pd.DataFrame(list(zip(graph.vs['name'],[x+1 for x in comm.membership]))).rename(columns={0:'feat',1:'community'})\n",
    "        counts=pd.DataFrame(temp.groupby('community')['feat'].agg(len))\n",
    "        counts.columns=[name]\n",
    "        comm_counts=pd.concat([comm_counts, counts],1)\n",
    "        \n",
    "    comm_counts.index=['c'+str(i) for i in comm_counts.index]\n",
    "    \n",
    "    ### min, max and number of comms\n",
    "    pd_df=comm_counts['PD']\n",
    "    ad_df=comm_counts['AD']\n",
    "    \n",
    "    out=pd.DataFrame([\n",
    "        pd.Series([res,pd_df.shape[0],pd_df.min(),pd_df.max(), pd_comm.modularity],name='PD'),\n",
    "        pd.Series([res,ad_df.shape[0],ad_df.min(),ad_df.max(), ad_comm.modularity],name='AD'),\n",
    "    ])\n",
    "    out=out.T\n",
    "    out.index=index=['res','comm_num','min_comm_size','max_comm_size','CPM modularity']\n",
    "    comm_res=pd.concat([comm_res, out],1)"
   ]
  },
  {
   "cell_type": "code",
   "execution_count": 208,
   "metadata": {},
   "outputs": [
    {
     "data": {
      "image/png": "[encoded data removed]",
      "text/plain": [
       "<Figure size 1008x864 with 4 Axes>"
      ]
     },
     "metadata": {
      "needs_background": "light"
     },
     "output_type": "display_data"
    }
   ],
   "source": [
    "max_cpm_ad=comm_res.T.reset_index().loc[(comm_res.T.reset_index()['index']=='AD')].sort_values('CPM modularity', ascending=False).iloc[0]\n",
    "max_cpm_pd=comm_res.T.reset_index().loc[(comm_res.T.reset_index()['index']=='PD')].sort_values('CPM modularity', ascending=False).iloc[0]\n",
    "\n",
    "fig,ax=plt.subplots(figsize=(14,12), nrows=4);\n",
    "ax=ax.flatten()\n",
    "sb.lineplot(\n",
    "    data=comm_res.T[['res','comm_num']].reset_index(),\n",
    "    x='res', y='comm_num', hue='index', ax=ax[0])\n",
    "ax[0].set(xscale=\"log\");\n",
    "\n",
    "sb.lineplot(\n",
    "    data=comm_res.T[['res','max_comm_size']].reset_index(),\n",
    "    x='res', y='max_comm_size', hue='index', ax=ax[1])\n",
    "ax[1].set(xscale=\"log\");\n",
    "\n",
    "sb.lineplot(\n",
    "    data=comm_res.T[['res','min_comm_size']].reset_index(),\n",
    "    x='res', y='min_comm_size', hue='index', ax=ax[2])\n",
    "ax[2].set(xscale=\"log\");\n",
    "\n",
    "sb.lineplot(\n",
    "    data=comm_res.T[['res','CPM modularity']].reset_index(),\n",
    "    x='res', y='CPM modularity', hue='index', ax=ax[3])\n",
    "ax[3].set(xscale=\"log\");\n",
    "\n",
    "for j in range(4):\n",
    "    ax[j].axvline(max_cpm_pd['res'], c='blue');\n",
    "    ax[j].axvline(max_cpm_ad['res'], c='orange');"
   ]
  },
  {
   "cell_type": "code",
   "execution_count": 209,
   "metadata": {},
   "outputs": [
    {
     "data": {
      "text/plain": [
       "index                   AD\n",
       "res               0.077526\n",
       "comm_num             957.0\n",
       "min_comm_size          1.0\n",
       "max_comm_size       1059.0\n",
       "CPM modularity    0.332254\n",
       "Name: 189, dtype: object"
      ]
     },
     "execution_count": 209,
     "metadata": {},
     "output_type": "execute_result"
    }
   ],
   "source": [
    "max_cpm_ad"
   ]
  },
  {
   "cell_type": "code",
   "execution_count": 210,
   "metadata": {},
   "outputs": [
    {
     "data": {
      "text/plain": [
       "index                   PD\n",
       "res               0.089074\n",
       "comm_num             981.0\n",
       "min_comm_size          1.0\n",
       "max_comm_size       1292.0\n",
       "CPM modularity    0.234337\n",
       "Name: 194, dtype: object"
      ]
     },
     "execution_count": 210,
     "metadata": {},
     "output_type": "execute_result"
    }
   ],
   "source": [
    "max_cpm_pd"
   ]
  },
  {
   "cell_type": "markdown",
   "metadata": {},
   "source": [
    "We will consider resolutions of 0.0775 and 0.0891 for community detection."
   ]
  },
  {
   "cell_type": "code",
   "execution_count": 213,
   "metadata": {},
   "outputs": [],
   "source": [
    "# pd_comm = leidenalg.find_partition(pd_w, leidenalg.ModularityVertexPartition, weights='w')\n",
    "# ad_comm = leidenalg.find_partition(ad_w, leidenalg.ModularityVertexPartition, weights='w')\n",
    "# random_ad_comm = leidenalg.find_partition(random_pd, leidenalg.ModularityVertexPartition)\n",
    "# random_pd_comm = leidenalg.find_partition(random_ad, leidenalg.ModularityVertexPartition)\n",
    "pd_comm = leidenalg.find_partition(pd_w, leidenalg.CPMVertexPartition, resolution_parameter=0.0891)\n",
    "ad_comm = leidenalg.find_partition(ad_w, leidenalg.CPMVertexPartition, resolution_parameter=0.0775)\n",
    "random_ad_comm = leidenalg.find_partition(random_pd, leidenalg.CPMVertexPartition)\n",
    "random_pd_comm = leidenalg.find_partition(random_ad, leidenalg.CPMVertexPartition)"
   ]
  },
  {
   "cell_type": "code",
   "execution_count": 217,
   "metadata": {},
   "outputs": [
    {
     "data": {
      "text/plain": [
       "0.216"
      ]
     },
     "execution_count": 217,
     "metadata": {},
     "output_type": "execute_result"
    }
   ],
   "source": [
    "np.round(pd_comm.modularity,3)"
   ]
  },
  {
   "cell_type": "code",
   "execution_count": 218,
   "metadata": {},
   "outputs": [
    {
     "data": {
      "text/plain": [
       "0.302"
      ]
     },
     "execution_count": 218,
     "metadata": {},
     "output_type": "execute_result"
    }
   ],
   "source": [
    "np.round(ad_comm.modularity,3)"
   ]
  },
  {
   "cell_type": "code",
   "execution_count": 219,
   "metadata": {},
   "outputs": [
    {
     "data": {
      "text/plain": [
       "-0.0"
      ]
     },
     "execution_count": 219,
     "metadata": {},
     "output_type": "execute_result"
    }
   ],
   "source": [
    "np.round(random_ad_comm.modularity,3)"
   ]
  },
  {
   "cell_type": "code",
   "execution_count": 220,
   "metadata": {},
   "outputs": [
    {
     "data": {
      "text/plain": [
       "-0.0"
      ]
     },
     "execution_count": 220,
     "metadata": {},
     "output_type": "execute_result"
    }
   ],
   "source": [
    "np.round(random_pd_comm.modularity,3)"
   ]
  },
  {
   "cell_type": "markdown",
   "metadata": {},
   "source": [
    "Comparing the different communities by size (we do not show communities with <30 elements):"
   ]
  },
  {
   "cell_type": "code",
   "execution_count": 222,
   "metadata": {
    "code_folding": []
   },
   "outputs": [
    {
     "data": {
      "image/png": "[encoded data removed]",
      "text/plain": [
       "<Figure size 504x288 with 1 Axes>"
      ]
     },
     "metadata": {
      "needs_background": "light"
     },
     "output_type": "display_data"
    }
   ],
   "source": [
    "#Compiles feat lists per community\n",
    "def get_community_table():\n",
    "    comm_counts=pd.DataFrame()\n",
    "    feat_lists=pd.DataFrame()\n",
    "    for i in [0,1]:\n",
    "        graph=[pd_w,ad_w][i]\n",
    "        comm=[pd_comm,ad_comm][i]\n",
    "        name=['PD','AD'][i]\n",
    "        temp=pd.DataFrame(list(zip(graph.vs['name'],[x+1 for x in comm.membership]))).rename(columns={0:'feat',1:'community'})\n",
    "        counts=pd.DataFrame(temp.groupby('community')['feat'].agg(len))\n",
    "        counts.columns=[name]\n",
    "        comm_counts=pd.concat([comm_counts, counts],1)\n",
    "        \n",
    "        gl=pd.DataFrame(temp.groupby('community')['feat'].apply(list)).reset_index()\n",
    "        gl['community']=['c'+str(i) for i in gl['community']]\n",
    "        gl['network']=name\n",
    "        gl=gl.loc[:,['network','community','feat']]\n",
    "        feat_lists=pd.concat([feat_lists, gl])\n",
    "        \n",
    "    comm_counts.index=['c'+str(i) for i in comm_counts.index]\n",
    "    return([comm_counts,feat_lists])\n",
    "\n",
    "#Plotting community sizes\n",
    "import seaborn as sns\n",
    "fig, ax = plt.subplots(figsize=(7, 4))\n",
    "bar_data=get_community_table()[0].loc[get_community_table()[0].sum(1)>30].fillna(0).T\n",
    "bar_data.plot(kind='bar', stacked=True, ax=ax);\n",
    "# ## number of communities in each\n",
    "# for index, row in groupedvalues.iterrows():\n",
    "#     g.text(row.name,row.tip, round(row.total_bill,2), color='black', ha=\"center\")\n",
    "ax.legend(get_community_table()[0].index, loc='right', bbox_to_anchor=(1.15, 1));\n",
    "ax.set_title('Community size')\n",
    "plt.xticks(rotation=0)\n",
    "plt.show()"
   ]
  },
  {
   "cell_type": "code",
   "execution_count": 272,
   "metadata": {},
   "outputs": [],
   "source": [
    "get_community_table()[1].to_csv('../data/community_elements.tsv', sep=\"\\t\", index=False)"
   ]
  },
  {
   "cell_type": "code",
   "execution_count": 223,
   "metadata": {},
   "outputs": [
    {
     "data": {
      "image/png": "[encoded data removed]",
      "text/plain": [
       "<Figure size 504x288 with 1 Axes>"
      ]
     },
     "metadata": {
      "needs_background": "light"
     },
     "output_type": "display_data"
    }
   ],
   "source": [
    "fig, ax = plt.subplots(figsize=(7, 4))\n",
    "sns.barplot(\n",
    "    data=bar_data.T.unstack().reset_index().rename(columns={'level_0':'network','level_1':'community',0:'size'}),\n",
    "    x='network',y='size', hue='community'\n",
    "           )\n",
    "\n",
    "ax.set(yscale='log');\n",
    "ax.legend(loc='right', bbox_to_anchor=(1.15, 1));\n",
    "ax.set_title('Community size')\n",
    "plt.xticks(rotation=0)\n",
    "plt.show()"
   ]
  },
  {
   "cell_type": "markdown",
   "metadata": {},
   "source": [
    "**Functional analysis**  \n",
    "We will use GO BP, KEGG and OMIM Diseases."
   ]
  },
  {
   "cell_type": "code",
   "execution_count": 248,
   "metadata": {},
   "outputs": [
    {
     "data": {
      "text/plain": [
       "c1      1337.0\n",
       "c2       413.0\n",
       "c3       257.0\n",
       "c4       204.0\n",
       "c5       174.0\n",
       "         ...  \n",
       "c931       NaN\n",
       "c932       NaN\n",
       "c933       NaN\n",
       "c934       NaN\n",
       "c935       NaN\n",
       "Name: PD, Length: 935, dtype: float64"
      ]
     },
     "execution_count": 248,
     "metadata": {},
     "output_type": "execute_result"
    }
   ],
   "source": [
    "get_community_table()[0]['PD']>"
   ]
  },
  {
   "cell_type": "code",
   "execution_count": 258,
   "metadata": {
    "code_folding": [],
    "scrolled": true
   },
   "outputs": [
    {
     "name": "stdout",
     "output_type": "stream",
     "text": [
      "Found 1337 genes in community c1\n",
      "Analyzing PD network | Comm: c1/15  | BP: GO_Biological_Process_2018\n",
      "Analyzing PD network | Comm: c1/15  | BP: KEGG_2019_Human\n",
      "Analyzing PD network | Comm: c1/15  | BP: OMIM_Disease\n"
     ]
    },
    {
     "name": "stderr",
     "output_type": "stream",
     "text": [
      "2021-03-05 13:09:23,791 Warning: No enrich terms using library OMIM_Disease when cutoff = 0.05\n"
     ]
    },
    {
     "name": "stdout",
     "output_type": "stream",
     "text": [
      "Found 413 genes in community c2\n",
      "Analyzing PD network | Comm: c2/15  | BP: GO_Biological_Process_2018\n",
      "Analyzing PD network | Comm: c2/15  | BP: KEGG_2019_Human\n",
      "Analyzing PD network | Comm: c2/15  | BP: OMIM_Disease\n"
     ]
    },
    {
     "name": "stderr",
     "output_type": "stream",
     "text": [
      "2021-03-05 13:09:38,101 Warning: No enrich terms using library OMIM_Disease when cutoff = 0.05\n"
     ]
    },
    {
     "name": "stdout",
     "output_type": "stream",
     "text": [
      "Found 257 genes in community c3\n",
      "Analyzing PD network | Comm: c3/15  | BP: GO_Biological_Process_2018\n",
      "Analyzing PD network | Comm: c3/15  | BP: KEGG_2019_Human\n",
      "Analyzing PD network | Comm: c3/15  | BP: OMIM_Disease\n"
     ]
    },
    {
     "name": "stderr",
     "output_type": "stream",
     "text": [
      "2021-03-05 13:09:51,167 Warning: No enrich terms using library OMIM_Disease when cutoff = 0.05\n"
     ]
    },
    {
     "name": "stdout",
     "output_type": "stream",
     "text": [
      "Found 204 genes in community c4\n",
      "Analyzing PD network | Comm: c4/15  | BP: GO_Biological_Process_2018\n",
      "Analyzing PD network | Comm: c4/15  | BP: KEGG_2019_Human\n",
      "Analyzing PD network | Comm: c4/15  | BP: OMIM_Disease\n"
     ]
    },
    {
     "name": "stderr",
     "output_type": "stream",
     "text": [
      "2021-03-05 13:10:03,893 Warning: No enrich terms using library OMIM_Disease when cutoff = 0.05\n"
     ]
    },
    {
     "name": "stdout",
     "output_type": "stream",
     "text": [
      "Found 174 genes in community c5\n",
      "Analyzing PD network | Comm: c5/15  | BP: GO_Biological_Process_2018\n"
     ]
    },
    {
     "name": "stderr",
     "output_type": "stream",
     "text": [
      "2021-03-05 13:10:08,237 Warning: No enrich terms using library GO_Biological_Process_2018 when cutoff = 0.05\n"
     ]
    },
    {
     "name": "stdout",
     "output_type": "stream",
     "text": [
      "Analyzing PD network | Comm: c5/15  | BP: KEGG_2019_Human\n"
     ]
    },
    {
     "name": "stderr",
     "output_type": "stream",
     "text": [
      "2021-03-05 13:10:11,920 Warning: No enrich terms using library KEGG_2019_Human when cutoff = 0.05\n"
     ]
    },
    {
     "name": "stdout",
     "output_type": "stream",
     "text": [
      "Analyzing PD network | Comm: c5/15  | BP: OMIM_Disease\n"
     ]
    },
    {
     "name": "stderr",
     "output_type": "stream",
     "text": [
      "2021-03-05 13:10:15,563 Warning: No enrich terms using library OMIM_Disease when cutoff = 0.05\n"
     ]
    },
    {
     "name": "stdout",
     "output_type": "stream",
     "text": [
      "Found 107 genes in community c6\n",
      "Analyzing PD network | Comm: c6/15  | BP: GO_Biological_Process_2018\n",
      "Analyzing PD network | Comm: c6/15  | BP: KEGG_2019_Human\n",
      "Analyzing PD network | Comm: c6/15  | BP: OMIM_Disease\n"
     ]
    },
    {
     "name": "stderr",
     "output_type": "stream",
     "text": [
      "2021-03-05 13:10:27,428 Warning: No enrich terms using library OMIM_Disease when cutoff = 0.05\n"
     ]
    },
    {
     "name": "stdout",
     "output_type": "stream",
     "text": [
      "Found 71 genes in community c7\n",
      "Analyzing PD network | Comm: c7/15  | BP: GO_Biological_Process_2018\n",
      "Analyzing PD network | Comm: c7/15  | BP: KEGG_2019_Human\n",
      "Analyzing PD network | Comm: c7/15  | BP: OMIM_Disease\n",
      "Found 63 genes in community c8\n",
      "Analyzing PD network | Comm: c8/15  | BP: GO_Biological_Process_2018\n",
      "Analyzing PD network | Comm: c8/15  | BP: KEGG_2019_Human\n"
     ]
    },
    {
     "name": "stderr",
     "output_type": "stream",
     "text": [
      "2021-03-05 13:10:47,125 Warning: No enrich terms using library KEGG_2019_Human when cutoff = 0.05\n"
     ]
    },
    {
     "name": "stdout",
     "output_type": "stream",
     "text": [
      "Analyzing PD network | Comm: c8/15  | BP: OMIM_Disease\n"
     ]
    },
    {
     "name": "stderr",
     "output_type": "stream",
     "text": [
      "2021-03-05 13:10:50,551 Warning: No enrich terms using library OMIM_Disease when cutoff = 0.05\n"
     ]
    },
    {
     "name": "stdout",
     "output_type": "stream",
     "text": [
      "Found 57 genes in community c9\n",
      "Analyzing PD network | Comm: c9/15  | BP: GO_Biological_Process_2018\n",
      "Analyzing PD network | Comm: c9/15  | BP: KEGG_2019_Human\n",
      "Analyzing PD network | Comm: c9/15  | BP: OMIM_Disease\n"
     ]
    },
    {
     "name": "stderr",
     "output_type": "stream",
     "text": [
      "2021-03-05 13:11:04,266 Warning: No enrich terms using library OMIM_Disease when cutoff = 0.05\n"
     ]
    },
    {
     "name": "stdout",
     "output_type": "stream",
     "text": [
      "Found 53 genes in community c10\n",
      "Analyzing PD network | Comm: c10/15  | BP: GO_Biological_Process_2018\n",
      "Analyzing PD network | Comm: c10/15  | BP: KEGG_2019_Human\n",
      "Analyzing PD network | Comm: c10/15  | BP: OMIM_Disease\n"
     ]
    },
    {
     "name": "stderr",
     "output_type": "stream",
     "text": [
      "2021-03-05 13:11:16,837 Warning: No enrich terms using library OMIM_Disease when cutoff = 0.05\n"
     ]
    },
    {
     "name": "stdout",
     "output_type": "stream",
     "text": [
      "Found 42 genes in community c11\n",
      "Analyzing PD network | Comm: c11/15  | BP: GO_Biological_Process_2018\n"
     ]
    },
    {
     "name": "stderr",
     "output_type": "stream",
     "text": [
      "2021-03-05 13:11:21,038 Warning: No enrich terms using library GO_Biological_Process_2018 when cutoff = 0.05\n"
     ]
    },
    {
     "name": "stdout",
     "output_type": "stream",
     "text": [
      "Analyzing PD network | Comm: c11/15  | BP: KEGG_2019_Human\n"
     ]
    },
    {
     "name": "stderr",
     "output_type": "stream",
     "text": [
      "2021-03-05 13:11:25,769 Warning: No enrich terms using library KEGG_2019_Human when cutoff = 0.05\n"
     ]
    },
    {
     "name": "stdout",
     "output_type": "stream",
     "text": [
      "Analyzing PD network | Comm: c11/15  | BP: OMIM_Disease\n"
     ]
    },
    {
     "name": "stderr",
     "output_type": "stream",
     "text": [
      "2021-03-05 13:11:29,230 Warning: No enrich terms using library OMIM_Disease when cutoff = 0.05\n"
     ]
    },
    {
     "name": "stdout",
     "output_type": "stream",
     "text": [
      "Found 36 genes in community c12\n",
      "Analyzing PD network | Comm: c12/15  | BP: GO_Biological_Process_2018\n",
      "Analyzing PD network | Comm: c12/15  | BP: KEGG_2019_Human\n"
     ]
    },
    {
     "name": "stderr",
     "output_type": "stream",
     "text": [
      "2021-03-05 13:11:36,815 Warning: No enrich terms using library KEGG_2019_Human when cutoff = 0.05\n"
     ]
    },
    {
     "name": "stdout",
     "output_type": "stream",
     "text": [
      "Analyzing PD network | Comm: c12/15  | BP: OMIM_Disease\n",
      "Found 35 genes in community c13\n",
      "Analyzing PD network | Comm: c13/15  | BP: GO_Biological_Process_2018\n"
     ]
    },
    {
     "name": "stderr",
     "output_type": "stream",
     "text": [
      "2021-03-05 13:11:44,206 Warning: No enrich terms using library GO_Biological_Process_2018 when cutoff = 0.05\n"
     ]
    },
    {
     "name": "stdout",
     "output_type": "stream",
     "text": [
      "Analyzing PD network | Comm: c13/15  | BP: KEGG_2019_Human\n"
     ]
    },
    {
     "name": "stderr",
     "output_type": "stream",
     "text": [
      "2021-03-05 13:11:47,638 Warning: No enrich terms using library KEGG_2019_Human when cutoff = 0.05\n"
     ]
    },
    {
     "name": "stdout",
     "output_type": "stream",
     "text": [
      "Analyzing PD network | Comm: c13/15  | BP: OMIM_Disease\n",
      "Found 35 genes in community c14\n",
      "Analyzing PD network | Comm: c14/15  | BP: GO_Biological_Process_2018\n",
      "Analyzing PD network | Comm: c14/15  | BP: KEGG_2019_Human\n",
      "Analyzing PD network | Comm: c14/15  | BP: OMIM_Disease\n"
     ]
    },
    {
     "name": "stderr",
     "output_type": "stream",
     "text": [
      "2021-03-05 13:12:02,745 Warning: No enrich terms using library OMIM_Disease when cutoff = 0.05\n"
     ]
    },
    {
     "name": "stdout",
     "output_type": "stream",
     "text": [
      "Found 32 genes in community c15\n",
      "Analyzing PD network | Comm: c15/15  | BP: GO_Biological_Process_2018\n"
     ]
    },
    {
     "name": "stderr",
     "output_type": "stream",
     "text": [
      "2021-03-05 13:12:06,419 Warning: No enrich terms using library GO_Biological_Process_2018 when cutoff = 0.05\n"
     ]
    },
    {
     "name": "stdout",
     "output_type": "stream",
     "text": [
      "Analyzing PD network | Comm: c15/15  | BP: KEGG_2019_Human\n",
      "Analyzing PD network | Comm: c15/15  | BP: OMIM_Disease\n"
     ]
    },
    {
     "name": "stderr",
     "output_type": "stream",
     "text": [
      "2021-03-05 13:12:13,532 Warning: No enrich terms using library OMIM_Disease when cutoff = 0.05\n"
     ]
    },
    {
     "name": "stdout",
     "output_type": "stream",
     "text": [
      "Found 1188 genes in community c1\n",
      "Analyzing AD network | Comm: c1/9  | BP: GO_Biological_Process_2018\n",
      "Analyzing AD network | Comm: c1/9  | BP: KEGG_2019_Human\n",
      "Analyzing AD network | Comm: c1/9  | BP: OMIM_Disease\n",
      "Found 846 genes in community c2\n",
      "Analyzing AD network | Comm: c2/9  | BP: GO_Biological_Process_2018\n",
      "Analyzing AD network | Comm: c2/9  | BP: KEGG_2019_Human\n",
      "Analyzing AD network | Comm: c2/9  | BP: OMIM_Disease\n"
     ]
    },
    {
     "name": "stderr",
     "output_type": "stream",
     "text": [
      "2021-03-05 13:12:51,248 Warning: No enrich terms using library OMIM_Disease when cutoff = 0.05\n"
     ]
    },
    {
     "name": "stdout",
     "output_type": "stream",
     "text": [
      "Found 86 genes in community c3\n",
      "Analyzing AD network | Comm: c3/9  | BP: GO_Biological_Process_2018\n",
      "Analyzing AD network | Comm: c3/9  | BP: KEGG_2019_Human\n"
     ]
    },
    {
     "name": "stderr",
     "output_type": "stream",
     "text": [
      "2021-03-05 13:12:59,262 Warning: No enrich terms using library KEGG_2019_Human when cutoff = 0.05\n"
     ]
    },
    {
     "name": "stdout",
     "output_type": "stream",
     "text": [
      "Analyzing AD network | Comm: c3/9  | BP: OMIM_Disease\n"
     ]
    },
    {
     "name": "stderr",
     "output_type": "stream",
     "text": [
      "2021-03-05 13:13:02,709 Warning: No enrich terms using library OMIM_Disease when cutoff = 0.05\n"
     ]
    },
    {
     "name": "stdout",
     "output_type": "stream",
     "text": [
      "Found 71 genes in community c4\n",
      "Analyzing AD network | Comm: c4/9  | BP: GO_Biological_Process_2018\n",
      "Analyzing AD network | Comm: c4/9  | BP: KEGG_2019_Human\n"
     ]
    },
    {
     "name": "stderr",
     "output_type": "stream",
     "text": [
      "2021-03-05 13:13:10,636 Warning: No enrich terms using library KEGG_2019_Human when cutoff = 0.05\n"
     ]
    },
    {
     "name": "stdout",
     "output_type": "stream",
     "text": [
      "Analyzing AD network | Comm: c4/9  | BP: OMIM_Disease\n",
      "Found 68 genes in community c5\n",
      "Analyzing AD network | Comm: c5/9  | BP: GO_Biological_Process_2018\n",
      "Analyzing AD network | Comm: c5/9  | BP: KEGG_2019_Human\n",
      "Analyzing AD network | Comm: c5/9  | BP: OMIM_Disease\n",
      "Found 40 genes in community c6\n",
      "Analyzing AD network | Comm: c6/9  | BP: GO_Biological_Process_2018\n",
      "Analyzing AD network | Comm: c6/9  | BP: KEGG_2019_Human\n",
      "Analyzing AD network | Comm: c6/9  | BP: OMIM_Disease\n"
     ]
    },
    {
     "name": "stderr",
     "output_type": "stream",
     "text": [
      "2021-03-05 13:13:37,966 Warning: No enrich terms using library OMIM_Disease when cutoff = 0.05\n"
     ]
    },
    {
     "name": "stdout",
     "output_type": "stream",
     "text": [
      "Found 31 genes in community c7\n",
      "Analyzing AD network | Comm: c7/9  | BP: GO_Biological_Process_2018\n"
     ]
    },
    {
     "name": "stderr",
     "output_type": "stream",
     "text": [
      "2021-03-05 13:13:41,569 Warning: No enrich terms using library GO_Biological_Process_2018 when cutoff = 0.05\n"
     ]
    },
    {
     "name": "stdout",
     "output_type": "stream",
     "text": [
      "Analyzing AD network | Comm: c7/9  | BP: KEGG_2019_Human\n"
     ]
    },
    {
     "name": "stderr",
     "output_type": "stream",
     "text": [
      "2021-03-05 13:13:45,024 Warning: No enrich terms using library KEGG_2019_Human when cutoff = 0.05\n"
     ]
    },
    {
     "name": "stdout",
     "output_type": "stream",
     "text": [
      "Analyzing AD network | Comm: c7/9  | BP: OMIM_Disease\n"
     ]
    },
    {
     "name": "stderr",
     "output_type": "stream",
     "text": [
      "2021-03-05 13:13:48,587 Warning: No enrich terms using library OMIM_Disease when cutoff = 0.05\n"
     ]
    },
    {
     "name": "stdout",
     "output_type": "stream",
     "text": [
      "Found 31 genes in community c8\n",
      "Analyzing AD network | Comm: c8/9  | BP: GO_Biological_Process_2018\n",
      "Analyzing AD network | Comm: c8/9  | BP: KEGG_2019_Human\n"
     ]
    },
    {
     "name": "stderr",
     "output_type": "stream",
     "text": [
      "2021-03-05 13:13:56,340 Warning: No enrich terms using library KEGG_2019_Human when cutoff = 0.05\n"
     ]
    },
    {
     "name": "stdout",
     "output_type": "stream",
     "text": [
      "Analyzing AD network | Comm: c8/9  | BP: OMIM_Disease\n",
      "Found 31 genes in community c9\n",
      "Analyzing AD network | Comm: c9/9  | BP: GO_Biological_Process_2018\n",
      "Analyzing AD network | Comm: c9/9  | BP: KEGG_2019_Human\n"
     ]
    },
    {
     "name": "stderr",
     "output_type": "stream",
     "text": [
      "2021-03-05 13:14:08,305 Warning: No enrich terms using library KEGG_2019_Human when cutoff = 0.05\n"
     ]
    },
    {
     "name": "stdout",
     "output_type": "stream",
     "text": [
      "Analyzing AD network | Comm: c9/9  | BP: OMIM_Disease\n"
     ]
    },
    {
     "name": "stderr",
     "output_type": "stream",
     "text": [
      "2021-03-05 13:14:11,689 Warning: No enrich terms using library OMIM_Disease when cutoff = 0.05\n"
     ]
    }
   ],
   "source": [
    "\n",
    "#we will search 3 libraries for significantly enriched gene sets\n",
    "gene_sets=['GO_Biological_Process_2018','KEGG_2019_Human','OMIM_Disease']\n",
    "background_pd=[x for x in pd_w.copy().vs['name']]\n",
    "background_ad=[x for x in ad_w.copy().vs['name']]\n",
    "all_genes=pro_data['Gene'].unique()\n",
    "\n",
    "def perform_enrich(network):\n",
    "    if(network=='PD'):\n",
    "        background=background_pd\n",
    "    else:\n",
    "        background=background_ad\n",
    "    temp=get_community_table()[1].copy()\n",
    "    temp=temp.loc[temp['network']==network]\n",
    "    \n",
    "    ## ignoring comms <30 genes\n",
    "    temp_size=get_community_table()[0][network]\n",
    "    temp_size=temp_size.where(temp_size>30).dropna()\n",
    "    temp=temp.loc[temp.community.isin(temp_size.index)]\n",
    "    \n",
    "    output_enrichr=pd.DataFrame()\n",
    "    for comm in temp['community'].values:\n",
    "        gl=list(temp.loc[temp['community']==comm, 'feat'])[0]\n",
    "        gl=list([x for x in gl if x in all_genes])\n",
    "        \n",
    "        if(len(gl)<30):\n",
    "            continue\n",
    "        print('Found '+str(len(gl))+' genes in community '+comm)\n",
    "        for bp in gene_sets:\n",
    "            print('Analyzing '+network+' network | Comm: '+comm+'/'+str(len(temp.index))+'  | BP: '+bp)\n",
    "            enr=gp.enrichr(\n",
    "                gene_list=gl,\n",
    "                gene_sets=bp,\n",
    "                background=background,\n",
    "                outdir='Enrichr',\n",
    "                format='png'\n",
    "            )\n",
    "\n",
    "            results=enr.results.sort_values('Adjusted P-value', ascending=True)\n",
    "            results=results.loc[results['Adjusted P-value']<0.05,]\n",
    "            results['BP']=bp\n",
    "            results['Comm']=comm\n",
    "            results['Graph']=network\n",
    "            output_enrichr=pd.concat([output_enrichr, results])\n",
    "            \n",
    "    return(output_enrichr)\n",
    "\n",
    "all_enriched=pd.DataFrame()\n",
    "for net in ['PD', 'AD']: \n",
    "    all_enriched=pd.concat([all_enriched,perform_enrich(net)])"
   ]
  },
  {
   "cell_type": "code",
   "execution_count": 259,
   "metadata": {
    "scrolled": true
   },
   "outputs": [],
   "source": [
    "enriched_terms=all_enriched.loc[:,['Graph','Comm','Term','Adjusted P-value']].copy()"
   ]
  },
  {
   "cell_type": "code",
   "execution_count": 260,
   "metadata": {},
   "outputs": [],
   "source": [
    "enriched_terms['Adjusted P-value']=-1*np.log10(enriched_terms['Adjusted P-value'])"
   ]
  },
  {
   "cell_type": "code",
   "execution_count": 261,
   "metadata": {},
   "outputs": [
    {
     "data": {
      "text/html": [
       "<div>\n",
       "<style scoped>\n",
       "    .dataframe tbody tr th:only-of-type {\n",
       "        vertical-align: middle;\n",
       "    }\n",
       "\n",
       "    .dataframe tbody tr th {\n",
       "        vertical-align: top;\n",
       "    }\n",
       "\n",
       "    .dataframe thead th {\n",
       "        text-align: right;\n",
       "    }\n",
       "</style>\n",
       "<table border=\"1\" class=\"dataframe\">\n",
       "  <thead>\n",
       "    <tr style=\"text-align: right;\">\n",
       "      <th></th>\n",
       "      <th>Graph</th>\n",
       "      <th>Comm</th>\n",
       "      <th>Term</th>\n",
       "      <th>Adjusted P-value</th>\n",
       "    </tr>\n",
       "  </thead>\n",
       "  <tbody>\n",
       "    <tr>\n",
       "      <th>0</th>\n",
       "      <td>PD</td>\n",
       "      <td>c1</td>\n",
       "      <td>flavonoid glucuronidation (GO:0052696)</td>\n",
       "      <td>7.028965</td>\n",
       "    </tr>\n",
       "    <tr>\n",
       "      <th>1</th>\n",
       "      <td>PD</td>\n",
       "      <td>c1</td>\n",
       "      <td>xenobiotic glucuronidation (GO:0052697)</td>\n",
       "      <td>5.643128</td>\n",
       "    </tr>\n",
       "    <tr>\n",
       "      <th>2</th>\n",
       "      <td>PD</td>\n",
       "      <td>c1</td>\n",
       "      <td>cellular glucuronidation (GO:0052695)</td>\n",
       "      <td>3.333943</td>\n",
       "    </tr>\n",
       "    <tr>\n",
       "      <th>3</th>\n",
       "      <td>PD</td>\n",
       "      <td>c1</td>\n",
       "      <td>coumarin metabolic process (GO:0009804)</td>\n",
       "      <td>2.170088</td>\n",
       "    </tr>\n",
       "    <tr>\n",
       "      <th>4</th>\n",
       "      <td>PD</td>\n",
       "      <td>c1</td>\n",
       "      <td>glucuronate metabolic process (GO:0019585)</td>\n",
       "      <td>2.019711</td>\n",
       "    </tr>\n",
       "  </tbody>\n",
       "</table>\n",
       "</div>"
      ],
      "text/plain": [
       "  Graph Comm                                        Term  Adjusted P-value\n",
       "0    PD   c1      flavonoid glucuronidation (GO:0052696)          7.028965\n",
       "1    PD   c1     xenobiotic glucuronidation (GO:0052697)          5.643128\n",
       "2    PD   c1       cellular glucuronidation (GO:0052695)          3.333943\n",
       "3    PD   c1     coumarin metabolic process (GO:0009804)          2.170088\n",
       "4    PD   c1  glucuronate metabolic process (GO:0019585)          2.019711"
      ]
     },
     "execution_count": 261,
     "metadata": {},
     "output_type": "execute_result"
    }
   ],
   "source": [
    "enriched_terms.head()"
   ]
  },
  {
   "cell_type": "code",
   "execution_count": 262,
   "metadata": {},
   "outputs": [
    {
     "data": {
      "image/png": "[encoded data removed]",
      "text/plain": [
       "<Figure size 504x288 with 1 Axes>"
      ]
     },
     "metadata": {
      "needs_background": "light"
     },
     "output_type": "display_data"
    }
   ],
   "source": [
    "fig, ax = plt.subplots(figsize=(7, 4))\n",
    "data_bars=pd.DataFrame(enriched_terms.groupby(['Graph','Comm'])['Term'].agg('count')).stack().reset_index().rename(columns={0:'Count'})\n",
    "sns.barplot(x='Graph', y='Count', data=data_bars, hue='Comm')\n",
    "ax.set_title('Number of significant Terms (Q < 0.05) per community')\n",
    "ax.legend(loc='right', bbox_to_anchor=(1.15, 1));\n",
    "plt.xticks(rotation=0)\n",
    "plt.show()"
   ]
  },
  {
   "cell_type": "markdown",
   "metadata": {},
   "source": [
    "Note that some of these communities are very big, which explains the big number of biological processes found above."
   ]
  },
  {
   "cell_type": "code",
   "execution_count": 263,
   "metadata": {},
   "outputs": [
    {
     "data": {
      "text/html": [
       "<div>\n",
       "<style scoped>\n",
       "    .dataframe tbody tr th:only-of-type {\n",
       "        vertical-align: middle;\n",
       "    }\n",
       "\n",
       "    .dataframe tbody tr th {\n",
       "        vertical-align: top;\n",
       "    }\n",
       "\n",
       "    .dataframe thead th {\n",
       "        text-align: right;\n",
       "    }\n",
       "</style>\n",
       "<table border=\"1\" class=\"dataframe\">\n",
       "  <thead>\n",
       "    <tr style=\"text-align: right;\">\n",
       "      <th></th>\n",
       "      <th>c1</th>\n",
       "      <th>c2</th>\n",
       "      <th>c3</th>\n",
       "      <th>c4</th>\n",
       "      <th>c5</th>\n",
       "      <th>c6</th>\n",
       "      <th>c7</th>\n",
       "      <th>c8</th>\n",
       "      <th>c9</th>\n",
       "      <th>c10</th>\n",
       "      <th>...</th>\n",
       "      <th>c926</th>\n",
       "      <th>c927</th>\n",
       "      <th>c928</th>\n",
       "      <th>c929</th>\n",
       "      <th>c930</th>\n",
       "      <th>c931</th>\n",
       "      <th>c932</th>\n",
       "      <th>c933</th>\n",
       "      <th>c934</th>\n",
       "      <th>c935</th>\n",
       "    </tr>\n",
       "  </thead>\n",
       "  <tbody>\n",
       "    <tr>\n",
       "      <th>PD</th>\n",
       "      <td>1337.0</td>\n",
       "      <td>413.0</td>\n",
       "      <td>257.0</td>\n",
       "      <td>204.0</td>\n",
       "      <td>174.0</td>\n",
       "      <td>107.0</td>\n",
       "      <td>71.0</td>\n",
       "      <td>63.0</td>\n",
       "      <td>57.0</td>\n",
       "      <td>53.0</td>\n",
       "      <td>...</td>\n",
       "      <td>0.0</td>\n",
       "      <td>0.0</td>\n",
       "      <td>0.0</td>\n",
       "      <td>0.0</td>\n",
       "      <td>0.0</td>\n",
       "      <td>0.0</td>\n",
       "      <td>0.0</td>\n",
       "      <td>0.0</td>\n",
       "      <td>0.0</td>\n",
       "      <td>0.0</td>\n",
       "    </tr>\n",
       "    <tr>\n",
       "      <th>AD</th>\n",
       "      <td>1188.0</td>\n",
       "      <td>846.0</td>\n",
       "      <td>86.0</td>\n",
       "      <td>71.0</td>\n",
       "      <td>68.0</td>\n",
       "      <td>40.0</td>\n",
       "      <td>31.0</td>\n",
       "      <td>31.0</td>\n",
       "      <td>31.0</td>\n",
       "      <td>30.0</td>\n",
       "      <td>...</td>\n",
       "      <td>1.0</td>\n",
       "      <td>1.0</td>\n",
       "      <td>1.0</td>\n",
       "      <td>1.0</td>\n",
       "      <td>1.0</td>\n",
       "      <td>1.0</td>\n",
       "      <td>1.0</td>\n",
       "      <td>1.0</td>\n",
       "      <td>1.0</td>\n",
       "      <td>1.0</td>\n",
       "    </tr>\n",
       "  </tbody>\n",
       "</table>\n",
       "<p>2 rows × 935 columns</p>\n",
       "</div>"
      ],
      "text/plain": [
       "        c1     c2     c3     c4     c5     c6    c7    c8    c9   c10  ...  \\\n",
       "PD  1337.0  413.0  257.0  204.0  174.0  107.0  71.0  63.0  57.0  53.0  ...   \n",
       "AD  1188.0  846.0   86.0   71.0   68.0   40.0  31.0  31.0  31.0  30.0  ...   \n",
       "\n",
       "    c926  c927  c928  c929  c930  c931  c932  c933  c934  c935  \n",
       "PD   0.0   0.0   0.0   0.0   0.0   0.0   0.0   0.0   0.0   0.0  \n",
       "AD   1.0   1.0   1.0   1.0   1.0   1.0   1.0   1.0   1.0   1.0  \n",
       "\n",
       "[2 rows x 935 columns]"
      ]
     },
     "execution_count": 263,
     "metadata": {},
     "output_type": "execute_result"
    }
   ],
   "source": [
    "###Number of genes/community\n",
    "# We skipped communities with <30 genes\n",
    "get_community_table()[0].fillna(0).T"
   ]
  },
  {
   "cell_type": "code",
   "execution_count": 264,
   "metadata": {},
   "outputs": [
    {
     "data": {
      "text/html": [
       "<div>\n",
       "<style scoped>\n",
       "    .dataframe tbody tr th:only-of-type {\n",
       "        vertical-align: middle;\n",
       "    }\n",
       "\n",
       "    .dataframe tbody tr th {\n",
       "        vertical-align: top;\n",
       "    }\n",
       "\n",
       "    .dataframe thead th {\n",
       "        text-align: right;\n",
       "    }\n",
       "</style>\n",
       "<table border=\"1\" class=\"dataframe\">\n",
       "  <thead>\n",
       "    <tr style=\"text-align: right;\">\n",
       "      <th></th>\n",
       "      <th></th>\n",
       "      <th>Term</th>\n",
       "    </tr>\n",
       "    <tr>\n",
       "      <th>Graph</th>\n",
       "      <th>Comm</th>\n",
       "      <th></th>\n",
       "    </tr>\n",
       "  </thead>\n",
       "  <tbody>\n",
       "    <tr>\n",
       "      <th rowspan=\"8\" valign=\"top\">AD</th>\n",
       "      <th>c1</th>\n",
       "      <td>457</td>\n",
       "    </tr>\n",
       "    <tr>\n",
       "      <th>c2</th>\n",
       "      <td>233</td>\n",
       "    </tr>\n",
       "    <tr>\n",
       "      <th>c3</th>\n",
       "      <td>12</td>\n",
       "    </tr>\n",
       "    <tr>\n",
       "      <th>c4</th>\n",
       "      <td>10</td>\n",
       "    </tr>\n",
       "    <tr>\n",
       "      <th>c5</th>\n",
       "      <td>35</td>\n",
       "    </tr>\n",
       "    <tr>\n",
       "      <th>c6</th>\n",
       "      <td>58</td>\n",
       "    </tr>\n",
       "    <tr>\n",
       "      <th>c8</th>\n",
       "      <td>5</td>\n",
       "    </tr>\n",
       "    <tr>\n",
       "      <th>c9</th>\n",
       "      <td>30</td>\n",
       "    </tr>\n",
       "    <tr>\n",
       "      <th rowspan=\"13\" valign=\"top\">PD</th>\n",
       "      <th>c1</th>\n",
       "      <td>21</td>\n",
       "    </tr>\n",
       "    <tr>\n",
       "      <th>c10</th>\n",
       "      <td>87</td>\n",
       "    </tr>\n",
       "    <tr>\n",
       "      <th>c12</th>\n",
       "      <td>50</td>\n",
       "    </tr>\n",
       "    <tr>\n",
       "      <th>c13</th>\n",
       "      <td>2</td>\n",
       "    </tr>\n",
       "    <tr>\n",
       "      <th>c14</th>\n",
       "      <td>14</td>\n",
       "    </tr>\n",
       "    <tr>\n",
       "      <th>c15</th>\n",
       "      <td>2</td>\n",
       "    </tr>\n",
       "    <tr>\n",
       "      <th>c2</th>\n",
       "      <td>168</td>\n",
       "    </tr>\n",
       "    <tr>\n",
       "      <th>c3</th>\n",
       "      <td>14</td>\n",
       "    </tr>\n",
       "    <tr>\n",
       "      <th>c4</th>\n",
       "      <td>11</td>\n",
       "    </tr>\n",
       "    <tr>\n",
       "      <th>c6</th>\n",
       "      <td>12</td>\n",
       "    </tr>\n",
       "    <tr>\n",
       "      <th>c7</th>\n",
       "      <td>72</td>\n",
       "    </tr>\n",
       "    <tr>\n",
       "      <th>c8</th>\n",
       "      <td>1</td>\n",
       "    </tr>\n",
       "    <tr>\n",
       "      <th>c9</th>\n",
       "      <td>13</td>\n",
       "    </tr>\n",
       "  </tbody>\n",
       "</table>\n",
       "</div>"
      ],
      "text/plain": [
       "            Term\n",
       "Graph Comm      \n",
       "AD    c1     457\n",
       "      c2     233\n",
       "      c3      12\n",
       "      c4      10\n",
       "      c5      35\n",
       "      c6      58\n",
       "      c8       5\n",
       "      c9      30\n",
       "PD    c1      21\n",
       "      c10     87\n",
       "      c12     50\n",
       "      c13      2\n",
       "      c14     14\n",
       "      c15      2\n",
       "      c2     168\n",
       "      c3      14\n",
       "      c4      11\n",
       "      c6      12\n",
       "      c7      72\n",
       "      c8       1\n",
       "      c9      13"
      ]
     },
     "execution_count": 264,
     "metadata": {},
     "output_type": "execute_result"
    }
   ],
   "source": [
    "pd.DataFrame(enriched_terms.groupby(['Graph','Comm'])['Term'].agg('count'))"
   ]
  },
  {
   "cell_type": "code",
   "execution_count": 270,
   "metadata": {},
   "outputs": [],
   "source": [
    "all_enriched.to_csv('../data/enrichment_results.tsv',sep=\"\\t\", index=False)"
   ]
  }
 ],
 "metadata": {
  "hide_input": false,
  "kernelspec": {
   "display_name": "Python 3",
   "language": "python",
   "name": "python3"
  },
  "language_info": {
   "codemirror_mode": {
    "name": "ipython",
    "version": 3
   },
   "file_extension": ".py",
   "mimetype": "text/x-python",
   "name": "python",
   "nbconvert_exporter": "python",
   "pygments_lexer": "ipython3",
   "version": "3.7.7"
  },
  "toc": {
   "base_numbering": 1,
   "nav_menu": {},
   "number_sections": true,
   "sideBar": true,
   "skip_h1_title": false,
   "title_cell": "Table of Contents",
   "title_sidebar": "Contents",
   "toc_cell": true,
   "toc_position": {},
   "toc_section_display": true,
   "toc_window_display": false
  }
 },
 "nbformat": 4,
 "nbformat_minor": 2
}
